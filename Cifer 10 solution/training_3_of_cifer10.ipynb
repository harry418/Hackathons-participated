{
  "nbformat": 4,
  "nbformat_minor": 0,
  "metadata": {
    "colab": {
      "name": "training 3 of cifer10.ipynb",
      "provenance": []
    },
    "kernelspec": {
      "name": "python3",
      "display_name": "Python 3"
    },
    "accelerator": "GPU"
  },
  "cells": [
    {
      "cell_type": "code",
      "metadata": {
        "id": "UBtcvhCzIKcM",
        "colab_type": "code",
        "colab": {
          "base_uri": "https://localhost:8080/",
          "height": 122
        },
        "outputId": "5c135db7-daaa-41e8-ec0b-cd82e63940ad"
      },
      "source": [
        "from google.colab import drive\n",
        "drive.mount('/content/gdrive',force_remount=True)"
      ],
      "execution_count": null,
      "outputs": [
        {
          "output_type": "stream",
          "text": [
            "Go to this URL in a browser: https://accounts.google.com/o/oauth2/auth?client_id=947318989803-6bn6qk8qdgf4n4g3pfee6491hc0brc4i.apps.googleusercontent.com&redirect_uri=urn%3aietf%3awg%3aoauth%3a2.0%3aoob&scope=email%20https%3a%2f%2fwww.googleapis.com%2fauth%2fdocs.test%20https%3a%2f%2fwww.googleapis.com%2fauth%2fdrive%20https%3a%2f%2fwww.googleapis.com%2fauth%2fdrive.photos.readonly%20https%3a%2f%2fwww.googleapis.com%2fauth%2fpeopleapi.readonly&response_type=code\n",
            "\n",
            "Enter your authorization code:\n",
            "··········\n",
            "Mounted at /content/gdrive\n"
          ],
          "name": "stdout"
        }
      ]
    },
    {
      "cell_type": "code",
      "metadata": {
        "id": "RJnh3LbyIL5l",
        "colab_type": "code",
        "colab": {}
      },
      "source": [
        "import os\n",
        "import zipfile\n",
        "\n",
        "local_zip = '/content/gdrive/My Drive/Dockship/dataset.zip'\n",
        "zip_ref = zipfile.ZipFile(local_zip, 'r')\n",
        "\n",
        "zip_ref.extractall('/tmp')\n",
        "zip_ref.close()"
      ],
      "execution_count": null,
      "outputs": []
    },
    {
      "cell_type": "code",
      "metadata": {
        "id": "H3pMDg6ITM-I",
        "colab_type": "code",
        "colab": {}
      },
      "source": [
        "# baseline model with dropout and data augmentation on the cifar10 dataset\n",
        "import sys\n",
        "import tensorflow as tf\n",
        "from matplotlib import pyplot\n",
        "from keras.utils import to_categorical\n",
        "from keras.models import Sequential\n",
        "from keras.layers import Conv2D,MaxPooling2D,Dense,Flatten,Dropout,BatchNormalization,AveragePooling2D\n",
        "from keras.optimizers import SGD\n",
        "from keras.preprocessing.image import ImageDataGenerator\n",
        "from sklearn.model_selection import train_test_split\n",
        "from keras.preprocessing.image import img_to_array\n",
        "from keras.preprocessing.image import load_img\n",
        "from imutils import paths\n",
        "import matplotlib.pyplot as plt\n",
        "import numpy as np\n",
        "import random\n",
        "import os"
      ],
      "execution_count": null,
      "outputs": []
    },
    {
      "cell_type": "code",
      "metadata": {
        "id": "8N63dW1iIoO5",
        "colab_type": "code",
        "colab": {}
      },
      "source": [
        "data_train = '/tmp/CIFAR10/train'\n",
        "data_test = '/tmp/CIFAR10/test'"
      ],
      "execution_count": null,
      "outputs": []
    },
    {
      "cell_type": "code",
      "metadata": {
        "id": "HsddBMnmTPSX",
        "colab_type": "code",
        "colab": {}
      },
      "source": [
        "imagepaths = list(paths.list_images(data_train))\n",
        "random.shuffle(imagepaths)\n",
        "random.seed(42)\n",
        "data_images = []\n",
        "labels = []\n",
        "for imgpath in imagepaths:\n",
        "\tlabel = imgpath.split(os.path.sep)[-2]\n",
        "\timg = load_img(imgpath, target_size=(32, 32))\n",
        "\tdata_images.append(img_to_array(img)/255.)\n",
        "\tlabels.append(label) "
      ],
      "execution_count": null,
      "outputs": []
    },
    {
      "cell_type": "code",
      "metadata": {
        "id": "Zdd2zWMvDp8d",
        "colab_type": "code",
        "colab": {}
      },
      "source": [
        "from sklearn.preprocessing import LabelEncoder\n",
        "lb = LabelEncoder()\n",
        "labels_z = lb.fit_transform(np.array(labels))\n",
        "labels_value = to_categorical(labels_z,num_classes=10)\n",
        "data = np.array(data_images,dtype='float32')"
      ],
      "execution_count": null,
      "outputs": []
    },
    {
      "cell_type": "code",
      "metadata": {
        "id": "8ZIwxrwYq2ZI",
        "colab_type": "code",
        "colab": {}
      },
      "source": [
        "trainX, testX,trainY, testY = train_test_split(data, labels_value,test_size=0.2, random_state=42,shuffle = True)"
      ],
      "execution_count": null,
      "outputs": []
    },
    {
      "cell_type": "code",
      "metadata": {
        "id": "CKhQTfr3oGVT",
        "colab_type": "code",
        "colab": {}
      },
      "source": [
        "def define_model():\n",
        "\tmodel = Sequential()\n",
        "\tmodel.add(Conv2D(32, (3, 3), activation='relu', kernel_initializer='he_uniform', padding='same', input_shape=(32, 32, 3)))\n",
        "\tmodel.add(BatchNormalization())\n",
        "\tmodel.add(Conv2D(32, (3, 3), activation='relu', kernel_initializer='he_uniform', padding='same'))\n",
        "\tmodel.add(BatchNormalization())\n",
        "\tmodel.add(MaxPooling2D((2, 2)))\n",
        "\tmodel.add(Dropout(0.1))\n",
        "\tmodel.add(Conv2D(64, (3, 3), activation='relu', kernel_initializer='he_uniform', padding='same'))\n",
        "\tmodel.add(BatchNormalization())\n",
        "\tmodel.add(Conv2D(64, (3, 3), activation='relu', kernel_initializer='he_uniform', padding='same'))\n",
        "\tmodel.add(BatchNormalization())\n",
        "\tmodel.add(MaxPooling2D((2, 2)))\n",
        "\tmodel.add(Dropout(0.2))\n",
        "\tmodel.add(Conv2D(128, (3, 3), activation='relu', kernel_initializer='he_uniform', padding='same'))\n",
        "\tmodel.add(BatchNormalization())\n",
        "\tmodel.add(Conv2D(128, (3, 3), activation='relu', kernel_initializer='he_uniform', padding='same'))\n",
        "\tmodel.add(BatchNormalization())\n",
        "\tmodel.add(MaxPooling2D((2, 2)))\n",
        "\tmodel.add(Dropout(0.3))\n",
        "\tmodel.add(Conv2D(128, (3, 3), activation='relu', kernel_initializer='he_uniform', padding='same'))\n",
        "\tmodel.add(BatchNormalization())\n",
        "\tmodel.add(Conv2D(128, (3, 3), activation='relu', kernel_initializer='he_uniform', padding='same'))\n",
        "\tmodel.add(BatchNormalization())\n",
        "\tmodel.add(MaxPooling2D((2, 2)))\n",
        "\tmodel.add(Dropout(0.4))\n",
        "\tmodel.add(Conv2D(128, (3, 3), activation='relu', kernel_initializer='he_uniform', padding='same'))\n",
        "\tmodel.add(BatchNormalization())\n",
        "\tmodel.add(Conv2D(128, (3, 3), activation='relu', kernel_initializer='he_uniform', padding='same'))\n",
        "\tmodel.add(BatchNormalization())\n",
        "\tmodel.add(MaxPooling2D((2, 2)))\n",
        "\tmodel.add(Dropout(0.5))\n",
        "\tmodel.add(Flatten())\n",
        "\tmodel.add(Dense(128, activation='relu', kernel_initializer='he_uniform'))\n",
        "\tmodel.add(BatchNormalization())\n",
        "\tmodel.add(Dropout(0.5))\n",
        "\tmodel.add(Dense(128, activation='relu', kernel_initializer='he_uniform'));return model\n",
        "\n",
        "mobile = define_model()"
      ],
      "execution_count": null,
      "outputs": []
    },
    {
      "cell_type": "code",
      "metadata": {
        "id": "wS_ym8KTqOly",
        "colab_type": "code",
        "colab": {}
      },
      "source": [
        "op_layer = mobile.output\n",
        "final_layer = Dense(128,activation='relu',kernel_initializer='he_uniform')(op_layer)\n",
        "final_layer = Dense(128,activation='relu',kernel_initializer='he_uniform')(final_layer)\n",
        "final_layer = Dense(10,activation= 'softmax')(final_layer)\n",
        "from keras.models  import Model\n",
        "# Define model input and output\n",
        "model = Model(inputs = mobile.input , outputs = final_layer)\n",
        "opt = SGD(lr=0.01, momentum=0.9)\n",
        "import keras\n",
        "optimizer_sgd = keras.optimizers.Adam(learning_rate=0.001)\n",
        "model.compile(optimizer=optimizer_sgd, loss='categorical_crossentropy', metrics=['accuracy'])"
      ],
      "execution_count": null,
      "outputs": []
    },
    {
      "cell_type": "code",
      "metadata": {
        "id": "IatTCOv4TXlB",
        "colab_type": "code",
        "colab": {}
      },
      "source": [
        "'''\n",
        "# define cnn model\n",
        "def define_model():\n",
        "\tmodel = Sequential()\n",
        "\tmodel.add(Conv2D(32, (3, 3), activation='relu', kernel_initializer='he_uniform', padding='same', input_shape=(32, 32, 3)))\n",
        "\tmodel.add(BatchNormalization())\n",
        "\tmodel.add(Conv2D(32, (3, 3), activation='relu', kernel_initializer='he_uniform', padding='same'))\n",
        "\tmodel.add(BatchNormalization())\n",
        "\tmodel.add(MaxPooling2D((2, 2)))\n",
        "\tmodel.add(Dropout(0.2))\n",
        "\tmodel.add(Conv2D(64, (3, 3), activation='relu', kernel_initializer='he_uniform', padding='same'))\n",
        "\tmodel.add(BatchNormalization())\n",
        "\tmodel.add(Conv2D(64, (3, 3), activation='relu', kernel_initializer='he_uniform', padding='same'))\n",
        "\tmodel.add(BatchNormalization())\n",
        "\tmodel.add(MaxPooling2D((2, 2)))\n",
        "\tmodel.add(Dropout(0.3))\n",
        "\tmodel.add(Conv2D(128, (3, 3), activation='relu', kernel_initializer='he_uniform', padding='same'))\n",
        "\tmodel.add(BatchNormalization())\n",
        "\tmodel.add(Conv2D(128, (3, 3), activation='relu', kernel_initializer='he_uniform', padding='same'))\n",
        "\tmodel.add(BatchNormalization())\n",
        "\tmodel.add(MaxPooling2D((2, 2)))\n",
        "\tmodel.add(Dropout(0.4))\n",
        "\tmodel.add(Flatten())\n",
        "\tmodel.add(Dense(128, activation='relu', kernel_initializer='he_uniform'))\n",
        "\tmodel.add(BatchNormalization())\n",
        "\tmodel.add(Dropout(0.5))\n",
        "\tmodel.add(Dense(128, activation='relu', kernel_initializer='he_uniform'))\n",
        "\tmodel.add(Dense(10, activation='softmax'))\n",
        "\t# compile model\n",
        "\topt = SGD(lr=0.001, momentum=0.9)\n",
        "\tmodel.compile(optimizer=opt, loss='categorical_crossentropy', metrics=['accuracy'])\n",
        "\treturn model\n",
        "\n",
        "# define model\n",
        "cnn = define_model()\n",
        "'''"
      ],
      "execution_count": null,
      "outputs": []
    },
    {
      "cell_type": "code",
      "metadata": {
        "id": "iGR349OMTejy",
        "colab_type": "code",
        "colab": {}
      },
      "source": [
        "# plot diagnostic learning curves\n",
        "import matplotlib.pyplot as plt\n",
        "def summarize_diagnostics(hist):\n",
        "\tplt.plot(hist.history[\"accuracy\"])\n",
        "\tplt.plot(hist.history['val_accuracy'])\n",
        "\tplt.plot(hist.history['loss'])\n",
        "\tplt.plot(hist.history['val_loss'])\n",
        "\tplt.title(\"model accuracy\")\n",
        "\tplt.ylabel(\"Accuracy\")\n",
        "\tplt.xlabel(\"Epoch\")\n",
        "\tplt.legend([\"Accuracy\",\"Validation Accuracy\",\"loss\",\"Validation Loss\"])\n",
        "\tplt.show()"
      ],
      "execution_count": null,
      "outputs": []
    },
    {
      "cell_type": "code",
      "metadata": {
        "id": "tE7Cv8uDO7FC",
        "colab_type": "code",
        "colab": {
          "base_uri": "https://localhost:8080/",
          "height": 1000
        },
        "outputId": "b1e56250-7317-47b0-f96b-cf04c4d84b44"
      },
      "source": [
        "# run the test harness for evaluating a model\n",
        "def run_test_harness():\n",
        "\t# create data generator\n",
        "\tdatagen = ImageDataGenerator(width_shift_range=0.1, height_shift_range=0.1, horizontal_flip=True,zoom_range=0.1)\n",
        "\t# prepare iterator\n",
        "\tit_train = datagen.flow(trainX, trainY, batch_size=64)\n",
        "\t# fit model\n",
        "\tsteps = int(trainX.shape[0] / 64)\n",
        "\thist = model.fit_generator(it_train, steps_per_epoch=steps, epochs=100, validation_data=(testX, testY), verbose=1)\n",
        "\t# evaluate model\n",
        "\t_, acc = model.evaluate(testX, testY, verbose=1)\n",
        "\tprint('> %.3f' % (acc * 100.0))\n",
        "\t# learning curves\n",
        "\tsummarize_diagnostics(hist)\n",
        "\n",
        "# entry point, run the test harness\n",
        "run_test_harness()"
      ],
      "execution_count": null,
      "outputs": [
        {
          "output_type": "stream",
          "text": [
            "Epoch 1/100\n",
            "625/625 [==============================] - 21s 34ms/step - loss: 0.1219 - accuracy: 0.9609 - val_loss: 0.3691 - val_accuracy: 0.8947\n",
            "Epoch 2/100\n",
            "625/625 [==============================] - 21s 33ms/step - loss: 0.1239 - accuracy: 0.9609 - val_loss: 0.4075 - val_accuracy: 0.8925\n",
            "Epoch 3/100\n",
            "625/625 [==============================] - 21s 33ms/step - loss: 0.1326 - accuracy: 0.9572 - val_loss: 0.3460 - val_accuracy: 0.9007\n",
            "Epoch 4/100\n",
            "625/625 [==============================] - 21s 33ms/step - loss: 0.1280 - accuracy: 0.9593 - val_loss: 0.3440 - val_accuracy: 0.8993\n",
            "Epoch 5/100\n",
            "625/625 [==============================] - 21s 34ms/step - loss: 0.1239 - accuracy: 0.9616 - val_loss: 0.3429 - val_accuracy: 0.9027\n",
            "Epoch 6/100\n",
            "625/625 [==============================] - 21s 33ms/step - loss: 0.1243 - accuracy: 0.9605 - val_loss: 0.3258 - val_accuracy: 0.9045\n",
            "Epoch 7/100\n",
            "625/625 [==============================] - 21s 33ms/step - loss: 0.1254 - accuracy: 0.9599 - val_loss: 0.3333 - val_accuracy: 0.9043\n",
            "Epoch 8/100\n",
            "625/625 [==============================] - 21s 33ms/step - loss: 0.1205 - accuracy: 0.9614 - val_loss: 0.3139 - val_accuracy: 0.9057\n",
            "Epoch 9/100\n",
            "625/625 [==============================] - 21s 33ms/step - loss: 0.1212 - accuracy: 0.9610 - val_loss: 0.3544 - val_accuracy: 0.8992\n",
            "Epoch 10/100\n",
            "625/625 [==============================] - 21s 33ms/step - loss: 0.1217 - accuracy: 0.9600 - val_loss: 0.3241 - val_accuracy: 0.9054\n",
            "Epoch 11/100\n",
            "625/625 [==============================] - 21s 33ms/step - loss: 0.1230 - accuracy: 0.9614 - val_loss: 0.3357 - val_accuracy: 0.9083\n",
            "Epoch 12/100\n",
            "625/625 [==============================] - 21s 33ms/step - loss: 0.1175 - accuracy: 0.9618 - val_loss: 0.3367 - val_accuracy: 0.9061\n",
            "Epoch 13/100\n",
            "625/625 [==============================] - 21s 34ms/step - loss: 0.1208 - accuracy: 0.9606 - val_loss: 0.3326 - val_accuracy: 0.9064\n",
            "Epoch 14/100\n",
            "625/625 [==============================] - 21s 33ms/step - loss: 0.1244 - accuracy: 0.9608 - val_loss: 0.3816 - val_accuracy: 0.8991\n",
            "Epoch 15/100\n",
            "625/625 [==============================] - 21s 33ms/step - loss: 0.1249 - accuracy: 0.9602 - val_loss: 0.3495 - val_accuracy: 0.9007\n",
            "Epoch 16/100\n",
            "625/625 [==============================] - 21s 33ms/step - loss: 0.1212 - accuracy: 0.9625 - val_loss: 0.3269 - val_accuracy: 0.9039\n",
            "Epoch 17/100\n",
            "625/625 [==============================] - 21s 33ms/step - loss: 0.1176 - accuracy: 0.9621 - val_loss: 0.3325 - val_accuracy: 0.9079\n",
            "Epoch 18/100\n",
            "625/625 [==============================] - 21s 33ms/step - loss: 0.1196 - accuracy: 0.9619 - val_loss: 0.3364 - val_accuracy: 0.9046\n",
            "Epoch 19/100\n",
            "625/625 [==============================] - 21s 33ms/step - loss: 0.1218 - accuracy: 0.9619 - val_loss: 0.3317 - val_accuracy: 0.9041\n",
            "Epoch 20/100\n",
            "625/625 [==============================] - 21s 33ms/step - loss: 0.1142 - accuracy: 0.9630 - val_loss: 0.3500 - val_accuracy: 0.9009\n",
            "Epoch 21/100\n",
            "625/625 [==============================] - 21s 33ms/step - loss: 0.1260 - accuracy: 0.9595 - val_loss: 0.3437 - val_accuracy: 0.9010\n",
            "Epoch 22/100\n",
            "625/625 [==============================] - 21s 33ms/step - loss: 0.1173 - accuracy: 0.9621 - val_loss: 0.3472 - val_accuracy: 0.9049\n",
            "Epoch 23/100\n",
            "625/625 [==============================] - 21s 33ms/step - loss: 0.1178 - accuracy: 0.9625 - val_loss: 0.3372 - val_accuracy: 0.9022\n",
            "Epoch 24/100\n",
            "625/625 [==============================] - 21s 33ms/step - loss: 0.1218 - accuracy: 0.9613 - val_loss: 0.3277 - val_accuracy: 0.9072\n",
            "Epoch 25/100\n",
            "625/625 [==============================] - 21s 33ms/step - loss: 0.1226 - accuracy: 0.9614 - val_loss: 0.3350 - val_accuracy: 0.9064\n",
            "Epoch 26/100\n",
            "625/625 [==============================] - 21s 33ms/step - loss: 0.1186 - accuracy: 0.9617 - val_loss: 0.3503 - val_accuracy: 0.9022\n",
            "Epoch 27/100\n",
            "625/625 [==============================] - 21s 33ms/step - loss: 0.1189 - accuracy: 0.9615 - val_loss: 0.3501 - val_accuracy: 0.9033\n",
            "Epoch 28/100\n",
            "625/625 [==============================] - 21s 34ms/step - loss: 0.1184 - accuracy: 0.9617 - val_loss: 0.3389 - val_accuracy: 0.9069\n",
            "Epoch 29/100\n",
            "625/625 [==============================] - 21s 33ms/step - loss: 0.1158 - accuracy: 0.9622 - val_loss: 0.4104 - val_accuracy: 0.8903\n",
            "Epoch 30/100\n",
            "625/625 [==============================] - 21s 33ms/step - loss: 0.1177 - accuracy: 0.9620 - val_loss: 0.3334 - val_accuracy: 0.9044\n",
            "Epoch 31/100\n",
            "625/625 [==============================] - 21s 33ms/step - loss: 0.1173 - accuracy: 0.9628 - val_loss: 0.3496 - val_accuracy: 0.9007\n",
            "Epoch 32/100\n",
            "625/625 [==============================] - 21s 34ms/step - loss: 0.1204 - accuracy: 0.9617 - val_loss: 0.3471 - val_accuracy: 0.9055\n",
            "Epoch 33/100\n",
            "625/625 [==============================] - 21s 33ms/step - loss: 0.1185 - accuracy: 0.9632 - val_loss: 0.3406 - val_accuracy: 0.9012\n",
            "Epoch 34/100\n",
            "625/625 [==============================] - 21s 33ms/step - loss: 0.1136 - accuracy: 0.9641 - val_loss: 0.3288 - val_accuracy: 0.9027\n",
            "Epoch 35/100\n",
            "625/625 [==============================] - 21s 33ms/step - loss: 0.1179 - accuracy: 0.9631 - val_loss: 0.3406 - val_accuracy: 0.9020\n",
            "Epoch 36/100\n",
            "625/625 [==============================] - 21s 33ms/step - loss: 0.1173 - accuracy: 0.9634 - val_loss: 0.3613 - val_accuracy: 0.8940\n",
            "Epoch 37/100\n",
            "625/625 [==============================] - 21s 33ms/step - loss: 0.1186 - accuracy: 0.9622 - val_loss: 0.3484 - val_accuracy: 0.9014\n",
            "Epoch 38/100\n",
            "625/625 [==============================] - 21s 34ms/step - loss: 0.1141 - accuracy: 0.9629 - val_loss: 0.3407 - val_accuracy: 0.9031\n",
            "Epoch 39/100\n",
            "625/625 [==============================] - 21s 33ms/step - loss: 0.1169 - accuracy: 0.9614 - val_loss: 0.3313 - val_accuracy: 0.9074\n",
            "Epoch 40/100\n",
            "625/625 [==============================] - 21s 33ms/step - loss: 0.1160 - accuracy: 0.9626 - val_loss: 0.3776 - val_accuracy: 0.8948\n",
            "Epoch 41/100\n",
            "625/625 [==============================] - 21s 33ms/step - loss: 0.1175 - accuracy: 0.9628 - val_loss: 0.3232 - val_accuracy: 0.9047\n",
            "Epoch 42/100\n",
            "625/625 [==============================] - 21s 33ms/step - loss: 0.1137 - accuracy: 0.9632 - val_loss: 0.3584 - val_accuracy: 0.9042\n",
            "Epoch 43/100\n",
            "625/625 [==============================] - 21s 34ms/step - loss: 0.1156 - accuracy: 0.9633 - val_loss: 0.3528 - val_accuracy: 0.8990\n",
            "Epoch 44/100\n",
            "625/625 [==============================] - 21s 34ms/step - loss: 0.1160 - accuracy: 0.9630 - val_loss: 0.4510 - val_accuracy: 0.8794\n",
            "Epoch 45/100\n",
            "625/625 [==============================] - 21s 33ms/step - loss: 0.1202 - accuracy: 0.9621 - val_loss: 0.3330 - val_accuracy: 0.9048\n",
            "Epoch 46/100\n",
            "625/625 [==============================] - 21s 33ms/step - loss: 0.1348 - accuracy: 0.9595 - val_loss: 0.3199 - val_accuracy: 0.9066\n",
            "Epoch 47/100\n",
            "625/625 [==============================] - 21s 33ms/step - loss: 0.1138 - accuracy: 0.9638 - val_loss: 0.3357 - val_accuracy: 0.9040\n",
            "Epoch 48/100\n",
            "625/625 [==============================] - 21s 33ms/step - loss: 0.1186 - accuracy: 0.9625 - val_loss: 0.3442 - val_accuracy: 0.9043\n",
            "Epoch 49/100\n",
            "625/625 [==============================] - 21s 33ms/step - loss: 0.1114 - accuracy: 0.9646 - val_loss: 0.3471 - val_accuracy: 0.9048\n",
            "Epoch 50/100\n",
            "625/625 [==============================] - 21s 34ms/step - loss: 0.1107 - accuracy: 0.9639 - val_loss: 0.3398 - val_accuracy: 0.9050\n",
            "Epoch 51/100\n",
            "625/625 [==============================] - 21s 33ms/step - loss: 0.1117 - accuracy: 0.9637 - val_loss: 0.3470 - val_accuracy: 0.9036\n",
            "Epoch 52/100\n",
            "625/625 [==============================] - 21s 33ms/step - loss: 0.1118 - accuracy: 0.9653 - val_loss: 0.3453 - val_accuracy: 0.9024\n",
            "Epoch 53/100\n",
            "625/625 [==============================] - 21s 33ms/step - loss: 0.1136 - accuracy: 0.9635 - val_loss: 0.3469 - val_accuracy: 0.9039\n",
            "Epoch 54/100\n",
            "625/625 [==============================] - 21s 33ms/step - loss: 0.1091 - accuracy: 0.9645 - val_loss: 0.3266 - val_accuracy: 0.9067\n",
            "Epoch 55/100\n",
            "625/625 [==============================] - 21s 33ms/step - loss: 0.1139 - accuracy: 0.9640 - val_loss: 0.3307 - val_accuracy: 0.9033\n",
            "Epoch 56/100\n",
            "625/625 [==============================] - 21s 33ms/step - loss: 0.1160 - accuracy: 0.9622 - val_loss: 0.3780 - val_accuracy: 0.8998\n",
            "Epoch 57/100\n",
            "625/625 [==============================] - 21s 34ms/step - loss: 0.1107 - accuracy: 0.9653 - val_loss: 0.3248 - val_accuracy: 0.9064\n",
            "Epoch 58/100\n",
            "625/625 [==============================] - 21s 34ms/step - loss: 0.1091 - accuracy: 0.9648 - val_loss: 0.3325 - val_accuracy: 0.9039\n",
            "Epoch 59/100\n",
            "625/625 [==============================] - 21s 33ms/step - loss: 0.1074 - accuracy: 0.9650 - val_loss: 0.3672 - val_accuracy: 0.8994\n",
            "Epoch 60/100\n",
            "625/625 [==============================] - 21s 33ms/step - loss: 0.1130 - accuracy: 0.9650 - val_loss: 0.3316 - val_accuracy: 0.9038\n",
            "Epoch 61/100\n",
            "625/625 [==============================] - 21s 33ms/step - loss: 0.1065 - accuracy: 0.9655 - val_loss: 0.3802 - val_accuracy: 0.8972\n",
            "Epoch 62/100\n",
            "625/625 [==============================] - 21s 33ms/step - loss: 0.1076 - accuracy: 0.9659 - val_loss: 0.3305 - val_accuracy: 0.9075\n",
            "Epoch 63/100\n",
            "625/625 [==============================] - 21s 33ms/step - loss: 0.1118 - accuracy: 0.9635 - val_loss: 0.3196 - val_accuracy: 0.9062\n",
            "Epoch 64/100\n",
            "625/625 [==============================] - 21s 33ms/step - loss: 0.1139 - accuracy: 0.9639 - val_loss: 0.3250 - val_accuracy: 0.9036\n",
            "Epoch 65/100\n",
            "625/625 [==============================] - 21s 33ms/step - loss: 0.1215 - accuracy: 0.9634 - val_loss: 0.3761 - val_accuracy: 0.8942\n",
            "Epoch 66/100\n",
            "625/625 [==============================] - 21s 33ms/step - loss: 0.1071 - accuracy: 0.9654 - val_loss: 0.3448 - val_accuracy: 0.9040\n",
            "Epoch 67/100\n",
            "625/625 [==============================] - 21s 33ms/step - loss: 0.1098 - accuracy: 0.9645 - val_loss: 0.3330 - val_accuracy: 0.9076\n",
            "Epoch 68/100\n",
            "625/625 [==============================] - 21s 33ms/step - loss: 0.1079 - accuracy: 0.9645 - val_loss: 0.3191 - val_accuracy: 0.9097\n",
            "Epoch 69/100\n",
            "625/625 [==============================] - 21s 33ms/step - loss: 0.1094 - accuracy: 0.9646 - val_loss: 0.3368 - val_accuracy: 0.9105\n",
            "Epoch 70/100\n",
            "625/625 [==============================] - 21s 33ms/step - loss: 0.1106 - accuracy: 0.9643 - val_loss: 0.3886 - val_accuracy: 0.8925\n",
            "Epoch 71/100\n",
            "625/625 [==============================] - 21s 33ms/step - loss: 0.1056 - accuracy: 0.9665 - val_loss: 0.3201 - val_accuracy: 0.9063\n",
            "Epoch 72/100\n",
            "625/625 [==============================] - 21s 33ms/step - loss: 0.1070 - accuracy: 0.9653 - val_loss: 0.3499 - val_accuracy: 0.9033\n",
            "Epoch 73/100\n",
            "625/625 [==============================] - 21s 33ms/step - loss: 0.1103 - accuracy: 0.9654 - val_loss: 0.3236 - val_accuracy: 0.9056\n",
            "Epoch 74/100\n",
            "625/625 [==============================] - 21s 33ms/step - loss: 0.1075 - accuracy: 0.9649 - val_loss: 0.3578 - val_accuracy: 0.9027\n",
            "Epoch 75/100\n",
            "625/625 [==============================] - 21s 33ms/step - loss: 0.1111 - accuracy: 0.9635 - val_loss: 0.3157 - val_accuracy: 0.9106\n",
            "Epoch 76/100\n",
            "625/625 [==============================] - 21s 33ms/step - loss: 0.1111 - accuracy: 0.9657 - val_loss: 0.3724 - val_accuracy: 0.8984\n",
            "Epoch 77/100\n",
            "625/625 [==============================] - 20s 33ms/step - loss: 0.1106 - accuracy: 0.9642 - val_loss: 0.3415 - val_accuracy: 0.9033\n",
            "Epoch 78/100\n",
            "625/625 [==============================] - 21s 33ms/step - loss: 0.1084 - accuracy: 0.9653 - val_loss: 0.3501 - val_accuracy: 0.8967\n",
            "Epoch 79/100\n",
            "625/625 [==============================] - 21s 33ms/step - loss: 0.1128 - accuracy: 0.9636 - val_loss: 0.3589 - val_accuracy: 0.9002\n",
            "Epoch 80/100\n",
            "625/625 [==============================] - 21s 33ms/step - loss: 0.1038 - accuracy: 0.9669 - val_loss: 0.3248 - val_accuracy: 0.9074\n",
            "Epoch 81/100\n",
            "625/625 [==============================] - 21s 33ms/step - loss: 0.1072 - accuracy: 0.9657 - val_loss: 0.3372 - val_accuracy: 0.9046\n",
            "Epoch 82/100\n",
            "625/625 [==============================] - 21s 33ms/step - loss: 0.1072 - accuracy: 0.9664 - val_loss: 0.3311 - val_accuracy: 0.9079\n",
            "Epoch 83/100\n",
            "625/625 [==============================] - 21s 33ms/step - loss: 0.1090 - accuracy: 0.9648 - val_loss: 0.3499 - val_accuracy: 0.8998\n",
            "Epoch 84/100\n",
            "625/625 [==============================] - 21s 33ms/step - loss: 0.1126 - accuracy: 0.9644 - val_loss: 0.3553 - val_accuracy: 0.8986\n",
            "Epoch 85/100\n",
            "625/625 [==============================] - 21s 33ms/step - loss: 0.1073 - accuracy: 0.9661 - val_loss: 0.3332 - val_accuracy: 0.9060\n",
            "Epoch 86/100\n",
            "625/625 [==============================] - 21s 34ms/step - loss: 0.1083 - accuracy: 0.9647 - val_loss: 0.3857 - val_accuracy: 0.8975\n",
            "Epoch 87/100\n",
            "625/625 [==============================] - 21s 34ms/step - loss: 0.1060 - accuracy: 0.9652 - val_loss: 0.3256 - val_accuracy: 0.9101\n",
            "Epoch 88/100\n",
            "625/625 [==============================] - 21s 33ms/step - loss: 0.1035 - accuracy: 0.9672 - val_loss: 0.3189 - val_accuracy: 0.9106\n",
            "Epoch 89/100\n",
            "625/625 [==============================] - 21s 33ms/step - loss: 0.1053 - accuracy: 0.9665 - val_loss: 0.3692 - val_accuracy: 0.9003\n",
            "Epoch 90/100\n",
            "625/625 [==============================] - 21s 33ms/step - loss: 0.1087 - accuracy: 0.9655 - val_loss: 0.3386 - val_accuracy: 0.9060\n",
            "Epoch 91/100\n",
            "625/625 [==============================] - 21s 33ms/step - loss: 0.1012 - accuracy: 0.9671 - val_loss: 0.3277 - val_accuracy: 0.9064\n",
            "Epoch 92/100\n",
            "625/625 [==============================] - 21s 33ms/step - loss: 0.1036 - accuracy: 0.9672 - val_loss: 0.3341 - val_accuracy: 0.9044\n",
            "Epoch 93/100\n",
            "625/625 [==============================] - 21s 33ms/step - loss: 0.1099 - accuracy: 0.9647 - val_loss: 0.3659 - val_accuracy: 0.8992\n",
            "Epoch 94/100\n",
            "625/625 [==============================] - 21s 34ms/step - loss: 0.1007 - accuracy: 0.9673 - val_loss: 0.3427 - val_accuracy: 0.9055\n",
            "Epoch 95/100\n",
            "625/625 [==============================] - 21s 33ms/step - loss: 0.1003 - accuracy: 0.9675 - val_loss: 0.3635 - val_accuracy: 0.9013\n",
            "Epoch 96/100\n",
            "625/625 [==============================] - 21s 33ms/step - loss: 0.1069 - accuracy: 0.9667 - val_loss: 0.3455 - val_accuracy: 0.9064\n",
            "Epoch 97/100\n",
            "625/625 [==============================] - 21s 33ms/step - loss: 0.1041 - accuracy: 0.9666 - val_loss: 0.3405 - val_accuracy: 0.9056\n",
            "Epoch 98/100\n",
            "625/625 [==============================] - 21s 33ms/step - loss: 0.1068 - accuracy: 0.9667 - val_loss: 0.3321 - val_accuracy: 0.9068\n",
            "Epoch 99/100\n",
            "625/625 [==============================] - 21s 34ms/step - loss: 0.1027 - accuracy: 0.9667 - val_loss: 0.3236 - val_accuracy: 0.9081\n",
            "Epoch 100/100\n",
            "625/625 [==============================] - 21s 33ms/step - loss: 0.1022 - accuracy: 0.9682 - val_loss: 0.3230 - val_accuracy: 0.9090\n",
            "313/313 [==============================] - 1s 4ms/step - loss: 0.3230 - accuracy: 0.9090\n",
            "> 90.900\n"
          ],
          "name": "stdout"
        },
        {
          "output_type": "display_data",
          "data": {
            "image/png": "[encoded data removed]",
            "text/plain": [
              "<Figure size 432x288 with 1 Axes>"
            ]
          },
          "metadata": {
            "tags": [],
            "needs_background": "light"
          }
        }
      ]
    },
    {
      "cell_type": "code",
      "metadata": {
        "id": "xE96kUIdWnTK",
        "colab_type": "code",
        "colab": {}
      },
      "source": [
        "model.save('/content/gdrive/My Drive/Dockship/model4.h5')"
      ],
      "execution_count": null,
      "outputs": []
    },
    {
      "cell_type": "code",
      "metadata": {
        "id": "-ZIcyPJCRvKr",
        "colab_type": "code",
        "colab": {
          "base_uri": "https://localhost:8080/",
          "height": 493
        },
        "outputId": "05094ab3-a333-487f-c9c1-88b241c0d164"
      },
      "source": [
        "from sklearn.metrics import confusion_matrix,classification_report\n",
        "y_pred = model.predict(testX)\n",
        "y_p = np.argmax(y_pred,axis=1)\n",
        "y_true = np.argmax(testY,axis=1)\n",
        "print(confusion_matrix(y_true,y_p))\n",
        "print('Classification report')\n",
        "print(classification_report(y_true,y_p))"
      ],
      "execution_count": null,
      "outputs": [
        {
          "output_type": "stream",
          "text": [
            "[[907  10  19   4   6   3   3   6  13  11]\n",
            " [  1 967   0   2   0   1   0   1   2  16]\n",
            " [ 29   2 870  14  14   8  26  11   3   4]\n",
            " [  8   2  29 773  36  64  36  19   2   6]\n",
            " [  2   0  10  11 942   9  18  18   0   1]\n",
            " [  5   2  25  75  27 826  23  37   2   0]\n",
            " [  6   1  15  14   5   4 968   4   0   1]\n",
            " [  6   1   8  11  20   5   2 953   0   2]\n",
            " [ 26  20   3   0   3   2   5   3 934   8]\n",
            " [  6  42   1   1   1   0   3   3   2 950]]\n",
            "Classification report\n",
            "              precision    recall  f1-score   support\n",
            "\n",
            "           0       0.91      0.92      0.92       982\n",
            "           1       0.92      0.98      0.95       990\n",
            "           2       0.89      0.89      0.89       981\n",
            "           3       0.85      0.79      0.82       975\n",
            "           4       0.89      0.93      0.91      1011\n",
            "           5       0.90      0.81      0.85      1022\n",
            "           6       0.89      0.95      0.92      1018\n",
            "           7       0.90      0.95      0.92      1008\n",
            "           8       0.97      0.93      0.95      1004\n",
            "           9       0.95      0.94      0.95      1009\n",
            "\n",
            "    accuracy                           0.91     10000\n",
            "   macro avg       0.91      0.91      0.91     10000\n",
            "weighted avg       0.91      0.91      0.91     10000\n",
            "\n"
          ],
          "name": "stdout"
        }
      ]
    },
    {
      "cell_type": "code",
      "metadata": {
        "id": "YqXbyvhF5hdk",
        "colab_type": "code",
        "colab": {}
      },
      "source": [
        "from sklearn.preprocessing import StandardScaler\n",
        "sc = StandardScaler()"
      ],
      "execution_count": null,
      "outputs": []
    },
    {
      "cell_type": "code",
      "metadata": {
        "id": "EiLZAB909UhM",
        "colab_type": "code",
        "colab": {
          "base_uri": "https://localhost:8080/",
          "height": 34
        },
        "outputId": "b34b0e97-b089-4325-9807-8fb28156a881"
      },
      "source": [
        "model_new = Model(inputs = model.input,outputs = op_layer)\n",
        "train_new = sc.fit_transform(model_new.predict(trainX))\n",
        "test_new = sc.fit_transform(model_new.predict(testX))\n",
        "from sklearn.svm import SVC\n",
        "svm = SVC(kernel='rbf')\n",
        "svm.fit(train_new,np.argmax(trainY,axis=1))\n",
        "svm.score(train_new,np.argmax(trainY,axis=1))"
      ],
      "execution_count": null,
      "outputs": [
        {
          "output_type": "execute_result",
          "data": {
            "text/plain": [
              "0.9942"
            ]
          },
          "metadata": {
            "tags": []
          },
          "execution_count": 32
        }
      ]
    },
    {
      "cell_type": "code",
      "metadata": {
        "id": "Xlkway3w7vkB",
        "colab_type": "code",
        "colab": {
          "base_uri": "https://localhost:8080/",
          "height": 34
        },
        "outputId": "c8070e32-ba6d-4a7c-8f96-35c76cd5c5c6"
      },
      "source": [
        "svm.score(test_new,np.argmax(testY,axis=1))"
      ],
      "execution_count": null,
      "outputs": [
        {
          "output_type": "execute_result",
          "data": {
            "text/plain": [
              "0.9096"
            ]
          },
          "metadata": {
            "tags": []
          },
          "execution_count": 34
        }
      ]
    },
    {
      "cell_type": "code",
      "metadata": {
        "id": "jpYvIb-9ZAiY",
        "colab_type": "code",
        "colab": {
          "base_uri": "https://localhost:8080/",
          "height": 34
        },
        "outputId": "8681fa16-441d-49ff-c712-3265d1f27b57"
      },
      "source": [
        "from xgboost import XGBClassifier\n",
        "xg = XGBClassifier()\n",
        "xg.fit(train_new,np.argmax(trainY,axis=1))\n",
        "xg.score(train_new,np.argmax(trainY,axis=1))"
      ],
      "execution_count": null,
      "outputs": [
        {
          "output_type": "execute_result",
          "data": {
            "text/plain": [
              "0.99085"
            ]
          },
          "metadata": {
            "tags": []
          },
          "execution_count": 18
        }
      ]
    },
    {
      "cell_type": "code",
      "metadata": {
        "id": "fmow5N56ZiaA",
        "colab_type": "code",
        "colab": {
          "base_uri": "https://localhost:8080/",
          "height": 34
        },
        "outputId": "a96e410c-a60a-4971-c222-ed6758258fb7"
      },
      "source": [
        "xg.score(test_new,np.argmax(testY,axis=1))"
      ],
      "execution_count": null,
      "outputs": [
        {
          "output_type": "execute_result",
          "data": {
            "text/plain": [
              "0.9083"
            ]
          },
          "metadata": {
            "tags": []
          },
          "execution_count": 19
        }
      ]
    },
    {
      "cell_type": "code",
      "metadata": {
        "id": "CEI8IbAUAKgB",
        "colab_type": "code",
        "colab": {}
      },
      "source": [
        "from keras.models import load_model\n",
        "model = load_model('/content/gdrive/My Drive/Dockship/model4.h5',compile = True)"
      ],
      "execution_count": null,
      "outputs": []
    },
    {
      "cell_type": "code",
      "metadata": {
        "id": "LxFMxVYUW4bS",
        "colab_type": "code",
        "colab": {}
      },
      "source": [
        "# make a prediction for a new image.\n",
        "from keras.preprocessing.image import load_img\n",
        "from keras.preprocessing.image import img_to_array\n",
        "from keras.models import load_model\n",
        "\n",
        "# load and prepare the image\n",
        "def load_image(filename):\n",
        "\t# load the image\n",
        "\timg = load_img(filename, target_size=(32, 32))\n",
        "\t# convert to array\n",
        "\timg = img_to_array(img)\n",
        "\t# reshape into a single sample with 3 channels\n",
        "\timg = img.reshape(1, 32, 32, 3)\n",
        "\t# prepare pixel data\n",
        "\timg = img.astype('float32')\n",
        "\timg = img / 255.0\n",
        "\treturn img\n",
        "\n"
      ],
      "execution_count": null,
      "outputs": []
    },
    {
      "cell_type": "code",
      "metadata": {
        "id": "gf1_ESyTIs2a",
        "colab_type": "code",
        "colab": {
          "base_uri": "https://localhost:8080/",
          "height": 34
        },
        "outputId": "def7f48b-4c5c-4957-e6c7-ad82c4e28f51"
      },
      "source": [
        "# grab the list of images in our dataset directory, then initialize\n",
        "# the list of data (i.e., images) and class images\n",
        "from imutils import paths\n",
        "import numpy as np\n",
        "print(\"[INFO] loading images...\")\n",
        "imagePaths = list(paths.list_images(data_test))\n",
        "imagePaths = sorted(imagePaths)\n",
        "op = []\n",
        "name = []\n",
        "# loop over the image paths\n",
        "for imagePath in imagePaths:\n",
        "\timg = load_image(imagePath)\n",
        "\tname.append(imagePath.split(os.path.sep)[-1])\n",
        "\tresult = lb.inverse_transform(np.argmax(svm.predict(model_new.predict(img),axis=1)))\n",
        "\tfor i in result:\n",
        "\t\top.append(i)"
      ],
      "execution_count": null,
      "outputs": [
        {
          "output_type": "stream",
          "text": [
            "[INFO] loading images...\n"
          ],
          "name": "stdout"
        }
      ]
    },
    {
      "cell_type": "code",
      "metadata": {
        "id": "O7CLHk3f6W0q",
        "colab_type": "code",
        "colab": {
          "base_uri": "https://localhost:8080/",
          "height": 204
        },
        "outputId": "05dc3caa-73c3-4069-c4de-d5497ce69419"
      },
      "source": [
        "import pandas as pd\n",
        "df = pd.DataFrame(list(zip(name, op)), columns =['filename', 'label']) \n",
        "df.head()"
      ],
      "execution_count": null,
      "outputs": [
        {
          "output_type": "execute_result",
          "data": {
            "text/html": [
              "<div>\n",
              "<style scoped>\n",
              "    .dataframe tbody tr th:only-of-type {\n",
              "        vertical-align: middle;\n",
              "    }\n",
              "\n",
              "    .dataframe tbody tr th {\n",
              "        vertical-align: top;\n",
              "    }\n",
              "\n",
              "    .dataframe thead th {\n",
              "        text-align: right;\n",
              "    }\n",
              "</style>\n",
              "<table border=\"1\" class=\"dataframe\">\n",
              "  <thead>\n",
              "    <tr style=\"text-align: right;\">\n",
              "      <th></th>\n",
              "      <th>filename</th>\n",
              "      <th>label</th>\n",
              "    </tr>\n",
              "  </thead>\n",
              "  <tbody>\n",
              "    <tr>\n",
              "      <th>0</th>\n",
              "      <td>00001_test.png</td>\n",
              "      <td>dog</td>\n",
              "    </tr>\n",
              "    <tr>\n",
              "      <th>1</th>\n",
              "      <td>00002_test.png</td>\n",
              "      <td>deer</td>\n",
              "    </tr>\n",
              "    <tr>\n",
              "      <th>2</th>\n",
              "      <td>00003_test.png</td>\n",
              "      <td>frog</td>\n",
              "    </tr>\n",
              "    <tr>\n",
              "      <th>3</th>\n",
              "      <td>00004_test.png</td>\n",
              "      <td>airplane</td>\n",
              "    </tr>\n",
              "    <tr>\n",
              "      <th>4</th>\n",
              "      <td>00005_test.png</td>\n",
              "      <td>frog</td>\n",
              "    </tr>\n",
              "  </tbody>\n",
              "</table>\n",
              "</div>"
            ],
            "text/plain": [
              "         filename     label\n",
              "0  00001_test.png       dog\n",
              "1  00002_test.png      deer\n",
              "2  00003_test.png      frog\n",
              "3  00004_test.png  airplane\n",
              "4  00005_test.png      frog"
            ]
          },
          "metadata": {
            "tags": []
          },
          "execution_count": 23
        }
      ]
    },
    {
      "cell_type": "code",
      "metadata": {
        "id": "dNLi0Bcp8Bqo",
        "colab_type": "code",
        "colab": {}
      },
      "source": [
        "df.to_csv('/content/gdrive/My Drive/Dockship/output.csv',index=False)"
      ],
      "execution_count": null,
      "outputs": []
    },
    {
      "cell_type": "code",
      "metadata": {
        "id": "daLZ4Jh-Cr8v",
        "colab_type": "code",
        "colab": {
          "base_uri": "https://localhost:8080/",
          "height": 215
        },
        "outputId": "637046ca-3afc-4110-d4bd-c435a7a2178e"
      },
      "source": [
        "img = load_img(imagePaths[3],target_size=(128, 64))\n",
        "print(imagePaths[3])\n",
        "import matplotlib.pyplot as plt\n",
        "plt.imshow(img)"
      ],
      "execution_count": null,
      "outputs": [
        {
          "output_type": "error",
          "ename": "NameError",
          "evalue": "ignored",
          "traceback": [
            "\u001b[0;31m---------------------------------------------------------------------------\u001b[0m",
            "\u001b[0;31mNameError\u001b[0m                                 Traceback (most recent call last)",
            "\u001b[0;32m<ipython-input-19-40a381c2b810>\u001b[0m in \u001b[0;36m<module>\u001b[0;34m()\u001b[0m\n\u001b[0;32m----> 1\u001b[0;31m \u001b[0mimg\u001b[0m \u001b[0;34m=\u001b[0m \u001b[0mload_img\u001b[0m\u001b[0;34m(\u001b[0m\u001b[0mimagePaths\u001b[0m\u001b[0;34m[\u001b[0m\u001b[0;36m3\u001b[0m\u001b[0;34m]\u001b[0m\u001b[0;34m,\u001b[0m\u001b[0mtarget_size\u001b[0m\u001b[0;34m=\u001b[0m\u001b[0;34m(\u001b[0m\u001b[0;36m128\u001b[0m\u001b[0;34m,\u001b[0m \u001b[0;36m64\u001b[0m\u001b[0;34m)\u001b[0m\u001b[0;34m)\u001b[0m\u001b[0;34m\u001b[0m\u001b[0;34m\u001b[0m\u001b[0m\n\u001b[0m\u001b[1;32m      2\u001b[0m \u001b[0mprint\u001b[0m\u001b[0;34m(\u001b[0m\u001b[0mimagePaths\u001b[0m\u001b[0;34m[\u001b[0m\u001b[0;36m3\u001b[0m\u001b[0;34m]\u001b[0m\u001b[0;34m)\u001b[0m\u001b[0;34m\u001b[0m\u001b[0;34m\u001b[0m\u001b[0m\n\u001b[1;32m      3\u001b[0m \u001b[0;32mimport\u001b[0m \u001b[0mmatplotlib\u001b[0m\u001b[0;34m.\u001b[0m\u001b[0mpyplot\u001b[0m \u001b[0;32mas\u001b[0m \u001b[0mplt\u001b[0m\u001b[0;34m\u001b[0m\u001b[0;34m\u001b[0m\u001b[0m\n\u001b[1;32m      4\u001b[0m \u001b[0mplt\u001b[0m\u001b[0;34m.\u001b[0m\u001b[0mimshow\u001b[0m\u001b[0;34m(\u001b[0m\u001b[0mimg\u001b[0m\u001b[0;34m)\u001b[0m\u001b[0;34m\u001b[0m\u001b[0;34m\u001b[0m\u001b[0m\n",
            "\u001b[0;31mNameError\u001b[0m: name 'imagePaths' is not defined"
          ]
        }
      ]
    },
    {
      "cell_type": "code",
      "metadata": {
        "id": "Fe4LW3UMNJxC",
        "colab_type": "code",
        "colab": {
          "base_uri": "https://localhost:8080/",
          "height": 34
        },
        "outputId": "fdf5c4f5-ebb1-4cea-cb52-4d237f7cbf0c"
      },
      "source": [
        "# load an image and predict the class\n",
        "def run_example():\n",
        "\t# load the image\n",
        "\timg = load_image(imagePaths[33])\n",
        "\t# load model\n",
        "\t#model = load_model('final_model.h5')\n",
        "\t# predict the class\n",
        "\tresult = model_new.predict(img)\n",
        "\tresult = svm.predict(result)\n",
        "\tprint(result)\n",
        " \n",
        "# entry point, run the example\n",
        "run_example()"
      ],
      "execution_count": null,
      "outputs": [
        {
          "output_type": "stream",
          "text": [
            "[8]\n"
          ],
          "name": "stdout"
        }
      ]
    },
    {
      "cell_type": "code",
      "metadata": {
        "id": "_1U3SD625VO8",
        "colab_type": "code",
        "colab": {
          "base_uri": "https://localhost:8080/",
          "height": 35
        },
        "outputId": "574e6e5c-91e2-4b34-c713-568722d8cc76"
      },
      "source": [
        "label = imagePaths[0].split(os.path.sep)[-1]\n",
        "label model.predict_classes"
      ],
      "execution_count": null,
      "outputs": [
        {
          "output_type": "execute_result",
          "data": {
            "application/vnd.google.colaboratory.intrinsic+json": {
              "type": "string"
            },
            "text/plain": [
              "'00001_test.png'"
            ]
          },
          "metadata": {
            "tags": []
          },
          "execution_count": 69
        }
      ]
    }
  ]
}