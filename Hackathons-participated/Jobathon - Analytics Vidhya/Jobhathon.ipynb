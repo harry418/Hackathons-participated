{
  "nbformat": 4,
  "nbformat_minor": 0,
  "metadata": {
    "colab": {
      "name": "Jobhathon",
      "provenance": [],
      "collapsed_sections": [
        "DMCrAB4e0-So",
        "o_GqMsF_STPR",
        "mL8ss_cWN6Ic",
        "iGyL4lCGGgE3"
      ],
      "mount_file_id": "1v8xoKODV1-KjBQv8WUDdu783DjhSXtSr",
      "authorship_tag": "ABX9TyOMRfkXO5O+drXAbn4DmdUJ"
    },
    "kernelspec": {
      "display_name": "Python 3",
      "name": "python3"
    }
  },
  "cells": [
    {
      "cell_type": "code",
      "metadata": {
        "colab": {
          "base_uri": "https://localhost:8080/"
        },
        "id": "t8LsaOAG1DDC",
        "outputId": "081dc92f-f06a-491b-cac5-b164d13c1acb"
      },
      "source": [
        "from google.colab import drive\n",
        "drive.mount('/content/gdrive',force_remount=True)"
      ],
      "execution_count": 1,
      "outputs": [
        {
          "output_type": "stream",
          "text": [
            "Mounted at /content/gdrive\n"
          ],
          "name": "stdout"
        }
      ]
    },
    {
      "cell_type": "code",
      "metadata": {
        "colab": {
          "base_uri": "https://localhost:8080/",
          "height": 241
        },
        "id": "yO8Q3QwiznYs",
        "outputId": "20940879-cdcb-42ec-fb5f-611617fcff13"
      },
      "source": [
        "import pandas as pd\n",
        "train = pd.read_csv(\"/content/gdrive/MyDrive/Analytics_vidhya/train_Df64byy.csv\")\n",
        "test = pd.read_csv(\"/content/gdrive/MyDrive/Analytics_vidhya/test_YCcRUnU.csv\")\n",
        "combine = [train,test]\n",
        "train.head()"
      ],
      "execution_count": 2,
      "outputs": [
        {
          "output_type": "execute_result",
          "data": {
            "text/html": [
              "<div>\n",
              "<style scoped>\n",
              "    .dataframe tbody tr th:only-of-type {\n",
              "        vertical-align: middle;\n",
              "    }\n",
              "\n",
              "    .dataframe tbody tr th {\n",
              "        vertical-align: top;\n",
              "    }\n",
              "\n",
              "    .dataframe thead th {\n",
              "        text-align: right;\n",
              "    }\n",
              "</style>\n",
              "<table border=\"1\" class=\"dataframe\">\n",
              "  <thead>\n",
              "    <tr style=\"text-align: right;\">\n",
              "      <th></th>\n",
              "      <th>ID</th>\n",
              "      <th>City_Code</th>\n",
              "      <th>Region_Code</th>\n",
              "      <th>Accomodation_Type</th>\n",
              "      <th>Reco_Insurance_Type</th>\n",
              "      <th>Upper_Age</th>\n",
              "      <th>Lower_Age</th>\n",
              "      <th>Is_Spouse</th>\n",
              "      <th>Health Indicator</th>\n",
              "      <th>Holding_Policy_Duration</th>\n",
              "      <th>Holding_Policy_Type</th>\n",
              "      <th>Reco_Policy_Cat</th>\n",
              "      <th>Reco_Policy_Premium</th>\n",
              "      <th>Response</th>\n",
              "    </tr>\n",
              "  </thead>\n",
              "  <tbody>\n",
              "    <tr>\n",
              "      <th>0</th>\n",
              "      <td>1</td>\n",
              "      <td>C3</td>\n",
              "      <td>3213</td>\n",
              "      <td>Rented</td>\n",
              "      <td>Individual</td>\n",
              "      <td>36</td>\n",
              "      <td>36</td>\n",
              "      <td>No</td>\n",
              "      <td>X1</td>\n",
              "      <td>14+</td>\n",
              "      <td>3.0</td>\n",
              "      <td>22</td>\n",
              "      <td>11628.0</td>\n",
              "      <td>0</td>\n",
              "    </tr>\n",
              "    <tr>\n",
              "      <th>1</th>\n",
              "      <td>2</td>\n",
              "      <td>C5</td>\n",
              "      <td>1117</td>\n",
              "      <td>Owned</td>\n",
              "      <td>Joint</td>\n",
              "      <td>75</td>\n",
              "      <td>22</td>\n",
              "      <td>No</td>\n",
              "      <td>X2</td>\n",
              "      <td>NaN</td>\n",
              "      <td>NaN</td>\n",
              "      <td>22</td>\n",
              "      <td>30510.0</td>\n",
              "      <td>0</td>\n",
              "    </tr>\n",
              "    <tr>\n",
              "      <th>2</th>\n",
              "      <td>3</td>\n",
              "      <td>C5</td>\n",
              "      <td>3732</td>\n",
              "      <td>Owned</td>\n",
              "      <td>Individual</td>\n",
              "      <td>32</td>\n",
              "      <td>32</td>\n",
              "      <td>No</td>\n",
              "      <td>NaN</td>\n",
              "      <td>1.0</td>\n",
              "      <td>1.0</td>\n",
              "      <td>19</td>\n",
              "      <td>7450.0</td>\n",
              "      <td>1</td>\n",
              "    </tr>\n",
              "    <tr>\n",
              "      <th>3</th>\n",
              "      <td>4</td>\n",
              "      <td>C24</td>\n",
              "      <td>4378</td>\n",
              "      <td>Owned</td>\n",
              "      <td>Joint</td>\n",
              "      <td>52</td>\n",
              "      <td>48</td>\n",
              "      <td>No</td>\n",
              "      <td>X1</td>\n",
              "      <td>14+</td>\n",
              "      <td>3.0</td>\n",
              "      <td>19</td>\n",
              "      <td>17780.0</td>\n",
              "      <td>0</td>\n",
              "    </tr>\n",
              "    <tr>\n",
              "      <th>4</th>\n",
              "      <td>5</td>\n",
              "      <td>C8</td>\n",
              "      <td>2190</td>\n",
              "      <td>Rented</td>\n",
              "      <td>Individual</td>\n",
              "      <td>44</td>\n",
              "      <td>44</td>\n",
              "      <td>No</td>\n",
              "      <td>X2</td>\n",
              "      <td>3.0</td>\n",
              "      <td>1.0</td>\n",
              "      <td>16</td>\n",
              "      <td>10404.0</td>\n",
              "      <td>0</td>\n",
              "    </tr>\n",
              "  </tbody>\n",
              "</table>\n",
              "</div>"
            ],
            "text/plain": [
              "   ID City_Code  Region_Code  ... Reco_Policy_Cat Reco_Policy_Premium  Response\n",
              "0   1        C3         3213  ...              22             11628.0         0\n",
              "1   2        C5         1117  ...              22             30510.0         0\n",
              "2   3        C5         3732  ...              19              7450.0         1\n",
              "3   4       C24         4378  ...              19             17780.0         0\n",
              "4   5        C8         2190  ...              16             10404.0         0\n",
              "\n",
              "[5 rows x 14 columns]"
            ]
          },
          "metadata": {
            "tags": []
          },
          "execution_count": 2
        }
      ]
    },
    {
      "cell_type": "markdown",
      "metadata": {
        "id": "DMCrAB4e0-So"
      },
      "source": [
        "# Visualization"
      ]
    },
    {
      "cell_type": "code",
      "metadata": {
        "colab": {
          "base_uri": "https://localhost:8080/"
        },
        "id": "cBHDUlyh1nVw",
        "outputId": "9447d47b-e4e2-4a33-ef94-5b78a7016e2b"
      },
      "source": [
        "train.info()"
      ],
      "execution_count": 3,
      "outputs": [
        {
          "output_type": "stream",
          "text": [
            "<class 'pandas.core.frame.DataFrame'>\n",
            "RangeIndex: 50882 entries, 0 to 50881\n",
            "Data columns (total 14 columns):\n",
            " #   Column                   Non-Null Count  Dtype  \n",
            "---  ------                   --------------  -----  \n",
            " 0   ID                       50882 non-null  int64  \n",
            " 1   City_Code                50882 non-null  object \n",
            " 2   Region_Code              50882 non-null  int64  \n",
            " 3   Accomodation_Type        50882 non-null  object \n",
            " 4   Reco_Insurance_Type      50882 non-null  object \n",
            " 5   Upper_Age                50882 non-null  int64  \n",
            " 6   Lower_Age                50882 non-null  int64  \n",
            " 7   Is_Spouse                50882 non-null  object \n",
            " 8   Health Indicator         39191 non-null  object \n",
            " 9   Holding_Policy_Duration  30631 non-null  object \n",
            " 10  Holding_Policy_Type      30631 non-null  float64\n",
            " 11  Reco_Policy_Cat          50882 non-null  int64  \n",
            " 12  Reco_Policy_Premium      50882 non-null  float64\n",
            " 13  Response                 50882 non-null  int64  \n",
            "dtypes: float64(2), int64(6), object(6)\n",
            "memory usage: 5.4+ MB\n"
          ],
          "name": "stdout"
        }
      ]
    },
    {
      "cell_type": "code",
      "metadata": {
        "colab": {
          "base_uri": "https://localhost:8080/"
        },
        "id": "tfmrIlNU2jqf",
        "outputId": "265d2fc0-2b4e-4aa2-9caf-f8338df310f0"
      },
      "source": [
        "train['Health Indicator'].value_counts()"
      ],
      "execution_count": 4,
      "outputs": [
        {
          "output_type": "execute_result",
          "data": {
            "text/plain": [
              "X1    13010\n",
              "X2    10332\n",
              "X3     6762\n",
              "X4     5743\n",
              "X5     1727\n",
              "X6     1280\n",
              "X7      196\n",
              "X8       78\n",
              "X9       63\n",
              "Name: Health Indicator, dtype: int64"
            ]
          },
          "metadata": {
            "tags": []
          },
          "execution_count": 4
        }
      ]
    },
    {
      "cell_type": "code",
      "metadata": {
        "id": "JlimSBQu3IMw"
      },
      "source": [
        "train['Health Indicator'] = train['Health Indicator'].fillna('X1')\n",
        "test['Health Indicator'] = test['Health Indicator'].fillna('X1')"
      ],
      "execution_count": 5,
      "outputs": []
    },
    {
      "cell_type": "code",
      "metadata": {
        "colab": {
          "base_uri": "https://localhost:8080/",
          "height": 328
        },
        "id": "aqv0-UxM25zU",
        "outputId": "d01a331f-178a-4efe-eef0-fc59bc84516a"
      },
      "source": [
        "train[['Health Indicator', 'Response']].groupby(['Health Indicator'], as_index=False).mean().sort_values(by='Response', ascending=False)"
      ],
      "execution_count": 6,
      "outputs": [
        {
          "output_type": "execute_result",
          "data": {
            "text/html": [
              "<div>\n",
              "<style scoped>\n",
              "    .dataframe tbody tr th:only-of-type {\n",
              "        vertical-align: middle;\n",
              "    }\n",
              "\n",
              "    .dataframe tbody tr th {\n",
              "        vertical-align: top;\n",
              "    }\n",
              "\n",
              "    .dataframe thead th {\n",
              "        text-align: right;\n",
              "    }\n",
              "</style>\n",
              "<table border=\"1\" class=\"dataframe\">\n",
              "  <thead>\n",
              "    <tr style=\"text-align: right;\">\n",
              "      <th></th>\n",
              "      <th>Health Indicator</th>\n",
              "      <th>Response</th>\n",
              "    </tr>\n",
              "  </thead>\n",
              "  <tbody>\n",
              "    <tr>\n",
              "      <th>6</th>\n",
              "      <td>X7</td>\n",
              "      <td>0.316327</td>\n",
              "    </tr>\n",
              "    <tr>\n",
              "      <th>3</th>\n",
              "      <td>X4</td>\n",
              "      <td>0.243079</td>\n",
              "    </tr>\n",
              "    <tr>\n",
              "      <th>1</th>\n",
              "      <td>X2</td>\n",
              "      <td>0.241096</td>\n",
              "    </tr>\n",
              "    <tr>\n",
              "      <th>5</th>\n",
              "      <td>X6</td>\n",
              "      <td>0.239844</td>\n",
              "    </tr>\n",
              "    <tr>\n",
              "      <th>0</th>\n",
              "      <td>X1</td>\n",
              "      <td>0.239424</td>\n",
              "    </tr>\n",
              "    <tr>\n",
              "      <th>2</th>\n",
              "      <td>X3</td>\n",
              "      <td>0.236469</td>\n",
              "    </tr>\n",
              "    <tr>\n",
              "      <th>4</th>\n",
              "      <td>X5</td>\n",
              "      <td>0.236248</td>\n",
              "    </tr>\n",
              "    <tr>\n",
              "      <th>7</th>\n",
              "      <td>X8</td>\n",
              "      <td>0.230769</td>\n",
              "    </tr>\n",
              "    <tr>\n",
              "      <th>8</th>\n",
              "      <td>X9</td>\n",
              "      <td>0.222222</td>\n",
              "    </tr>\n",
              "  </tbody>\n",
              "</table>\n",
              "</div>"
            ],
            "text/plain": [
              "  Health Indicator  Response\n",
              "6               X7  0.316327\n",
              "3               X4  0.243079\n",
              "1               X2  0.241096\n",
              "5               X6  0.239844\n",
              "0               X1  0.239424\n",
              "2               X3  0.236469\n",
              "4               X5  0.236248\n",
              "7               X8  0.230769\n",
              "8               X9  0.222222"
            ]
          },
          "metadata": {
            "tags": []
          },
          "execution_count": 6
        }
      ]
    },
    {
      "cell_type": "code",
      "metadata": {
        "colab": {
          "base_uri": "https://localhost:8080/"
        },
        "id": "T0wrY--iz1Hb",
        "outputId": "35c986e7-0493-445c-ac5d-f3516216d7e3"
      },
      "source": [
        "train['Holding_Policy_Duration'].value_counts()"
      ],
      "execution_count": 7,
      "outputs": [
        {
          "output_type": "execute_result",
          "data": {
            "text/plain": [
              "1.0     4499\n",
              "14+     4335\n",
              "2.0     4260\n",
              "3.0     3586\n",
              "4.0     2771\n",
              "5.0     2362\n",
              "6.0     1894\n",
              "7.0     1645\n",
              "8.0     1316\n",
              "9.0     1114\n",
              "10.0     813\n",
              "11.0     546\n",
              "12.0     513\n",
              "13.0     511\n",
              "14.0     466\n",
              "Name: Holding_Policy_Duration, dtype: int64"
            ]
          },
          "metadata": {
            "tags": []
          },
          "execution_count": 7
        }
      ]
    },
    {
      "cell_type": "code",
      "metadata": {
        "id": "ASiBfe0J4Pli"
      },
      "source": [
        "train['Holding_Policy_Duration'] = train['Holding_Policy_Duration'].fillna('1.0')\n",
        "test['Holding_Policy_Duration'] = test['Holding_Policy_Duration'].fillna('1.0')"
      ],
      "execution_count": 8,
      "outputs": []
    },
    {
      "cell_type": "code",
      "metadata": {
        "colab": {
          "base_uri": "https://localhost:8080/",
          "height": 514
        },
        "id": "qOr5cgIb0Y13",
        "outputId": "c8c94923-fa31-4c9d-a915-7d48bdb20cd7"
      },
      "source": [
        "train[['Holding_Policy_Duration', 'Response']].groupby(['Holding_Policy_Duration'], as_index=False).mean().sort_values(by='Response', ascending=False)"
      ],
      "execution_count": 9,
      "outputs": [
        {
          "output_type": "execute_result",
          "data": {
            "text/html": [
              "<div>\n",
              "<style scoped>\n",
              "    .dataframe tbody tr th:only-of-type {\n",
              "        vertical-align: middle;\n",
              "    }\n",
              "\n",
              "    .dataframe tbody tr th {\n",
              "        vertical-align: top;\n",
              "    }\n",
              "\n",
              "    .dataframe thead th {\n",
              "        text-align: right;\n",
              "    }\n",
              "</style>\n",
              "<table border=\"1\" class=\"dataframe\">\n",
              "  <thead>\n",
              "    <tr style=\"text-align: right;\">\n",
              "      <th></th>\n",
              "      <th>Holding_Policy_Duration</th>\n",
              "      <th>Response</th>\n",
              "    </tr>\n",
              "  </thead>\n",
              "  <tbody>\n",
              "    <tr>\n",
              "      <th>1</th>\n",
              "      <td>10.0</td>\n",
              "      <td>0.273063</td>\n",
              "    </tr>\n",
              "    <tr>\n",
              "      <th>4</th>\n",
              "      <td>13.0</td>\n",
              "      <td>0.270059</td>\n",
              "    </tr>\n",
              "    <tr>\n",
              "      <th>12</th>\n",
              "      <td>7.0</td>\n",
              "      <td>0.257143</td>\n",
              "    </tr>\n",
              "    <tr>\n",
              "      <th>13</th>\n",
              "      <td>8.0</td>\n",
              "      <td>0.256839</td>\n",
              "    </tr>\n",
              "    <tr>\n",
              "      <th>3</th>\n",
              "      <td>12.0</td>\n",
              "      <td>0.253411</td>\n",
              "    </tr>\n",
              "    <tr>\n",
              "      <th>2</th>\n",
              "      <td>11.0</td>\n",
              "      <td>0.250916</td>\n",
              "    </tr>\n",
              "    <tr>\n",
              "      <th>5</th>\n",
              "      <td>14+</td>\n",
              "      <td>0.250750</td>\n",
              "    </tr>\n",
              "    <tr>\n",
              "      <th>6</th>\n",
              "      <td>14.0</td>\n",
              "      <td>0.246781</td>\n",
              "    </tr>\n",
              "    <tr>\n",
              "      <th>9</th>\n",
              "      <td>4.0</td>\n",
              "      <td>0.240707</td>\n",
              "    </tr>\n",
              "    <tr>\n",
              "      <th>10</th>\n",
              "      <td>5.0</td>\n",
              "      <td>0.238357</td>\n",
              "    </tr>\n",
              "    <tr>\n",
              "      <th>14</th>\n",
              "      <td>9.0</td>\n",
              "      <td>0.237882</td>\n",
              "    </tr>\n",
              "    <tr>\n",
              "      <th>7</th>\n",
              "      <td>2.0</td>\n",
              "      <td>0.237324</td>\n",
              "    </tr>\n",
              "    <tr>\n",
              "      <th>0</th>\n",
              "      <td>1.0</td>\n",
              "      <td>0.235798</td>\n",
              "    </tr>\n",
              "    <tr>\n",
              "      <th>11</th>\n",
              "      <td>6.0</td>\n",
              "      <td>0.234952</td>\n",
              "    </tr>\n",
              "    <tr>\n",
              "      <th>8</th>\n",
              "      <td>3.0</td>\n",
              "      <td>0.232013</td>\n",
              "    </tr>\n",
              "  </tbody>\n",
              "</table>\n",
              "</div>"
            ],
            "text/plain": [
              "   Holding_Policy_Duration  Response\n",
              "1                     10.0  0.273063\n",
              "4                     13.0  0.270059\n",
              "12                     7.0  0.257143\n",
              "13                     8.0  0.256839\n",
              "3                     12.0  0.253411\n",
              "2                     11.0  0.250916\n",
              "5                      14+  0.250750\n",
              "6                     14.0  0.246781\n",
              "9                      4.0  0.240707\n",
              "10                     5.0  0.238357\n",
              "14                     9.0  0.237882\n",
              "7                      2.0  0.237324\n",
              "0                      1.0  0.235798\n",
              "11                     6.0  0.234952\n",
              "8                      3.0  0.232013"
            ]
          },
          "metadata": {
            "tags": []
          },
          "execution_count": 9
        }
      ]
    },
    {
      "cell_type": "code",
      "metadata": {
        "colab": {
          "base_uri": "https://localhost:8080/"
        },
        "id": "yyg5BeU65Q0I",
        "outputId": "98302e18-56f3-4858-bbea-a54c8a978f11"
      },
      "source": [
        "train['Holding_Policy_Type'].value_counts()"
      ],
      "execution_count": 10,
      "outputs": [
        {
          "output_type": "execute_result",
          "data": {
            "text/plain": [
              "3.0    13279\n",
              "1.0     8173\n",
              "2.0     5005\n",
              "4.0     4174\n",
              "Name: Holding_Policy_Type, dtype: int64"
            ]
          },
          "metadata": {
            "tags": []
          },
          "execution_count": 10
        }
      ]
    },
    {
      "cell_type": "code",
      "metadata": {
        "id": "Cpk-zevk5ZzA"
      },
      "source": [
        "train['Holding_Policy_Type'] = train['Holding_Policy_Type'].fillna(3.0)\n",
        "test['Holding_Policy_Type'] = test['Holding_Policy_Type'].fillna(3.0)"
      ],
      "execution_count": 11,
      "outputs": []
    },
    {
      "cell_type": "code",
      "metadata": {
        "colab": {
          "base_uri": "https://localhost:8080/",
          "height": 173
        },
        "id": "RDIXFeLuURO4",
        "outputId": "e9b00322-ce1e-4e7b-9601-f8b8de635486"
      },
      "source": [
        "train[['Holding_Policy_Type', 'Response']].groupby(['Holding_Policy_Type'], as_index=False).mean().sort_values(by='Response', ascending=False)"
      ],
      "execution_count": 12,
      "outputs": [
        {
          "output_type": "execute_result",
          "data": {
            "text/html": [
              "<div>\n",
              "<style scoped>\n",
              "    .dataframe tbody tr th:only-of-type {\n",
              "        vertical-align: middle;\n",
              "    }\n",
              "\n",
              "    .dataframe tbody tr th {\n",
              "        vertical-align: top;\n",
              "    }\n",
              "\n",
              "    .dataframe thead th {\n",
              "        text-align: right;\n",
              "    }\n",
              "</style>\n",
              "<table border=\"1\" class=\"dataframe\">\n",
              "  <thead>\n",
              "    <tr style=\"text-align: right;\">\n",
              "      <th></th>\n",
              "      <th>Holding_Policy_Type</th>\n",
              "      <th>Response</th>\n",
              "    </tr>\n",
              "  </thead>\n",
              "  <tbody>\n",
              "    <tr>\n",
              "      <th>3</th>\n",
              "      <td>4.0</td>\n",
              "      <td>0.248203</td>\n",
              "    </tr>\n",
              "    <tr>\n",
              "      <th>2</th>\n",
              "      <td>3.0</td>\n",
              "      <td>0.240262</td>\n",
              "    </tr>\n",
              "    <tr>\n",
              "      <th>1</th>\n",
              "      <td>2.0</td>\n",
              "      <td>0.237762</td>\n",
              "    </tr>\n",
              "    <tr>\n",
              "      <th>0</th>\n",
              "      <td>1.0</td>\n",
              "      <td>0.235776</td>\n",
              "    </tr>\n",
              "  </tbody>\n",
              "</table>\n",
              "</div>"
            ],
            "text/plain": [
              "   Holding_Policy_Type  Response\n",
              "3                  4.0  0.248203\n",
              "2                  3.0  0.240262\n",
              "1                  2.0  0.237762\n",
              "0                  1.0  0.235776"
            ]
          },
          "metadata": {
            "tags": []
          },
          "execution_count": 12
        }
      ]
    },
    {
      "cell_type": "code",
      "metadata": {
        "colab": {
          "base_uri": "https://localhost:8080/"
        },
        "id": "iTMZAyXHA8tO",
        "outputId": "ad864528-a866-4cde-e5ef-e15c67f12e63"
      },
      "source": [
        "train['Region_Code'].unique()"
      ],
      "execution_count": 13,
      "outputs": [
        {
          "output_type": "execute_result",
          "data": {
            "text/plain": [
              "array([3213, 1117, 3732, ..., 5326, 6149, 5450])"
            ]
          },
          "metadata": {
            "tags": []
          },
          "execution_count": 13
        }
      ]
    },
    {
      "cell_type": "code",
      "metadata": {
        "id": "4wL9wggbAw1x",
        "colab": {
          "base_uri": "https://localhost:8080/",
          "height": 419
        },
        "outputId": "c3ce09c7-8484-4058-e226-cb1f69a67db1"
      },
      "source": [
        "train[['Region_Code', 'Response']].groupby(['Region_Code'], as_index=False).mean().sort_values(by='Response', ascending=False)"
      ],
      "execution_count": 14,
      "outputs": [
        {
          "output_type": "execute_result",
          "data": {
            "text/html": [
              "<div>\n",
              "<style scoped>\n",
              "    .dataframe tbody tr th:only-of-type {\n",
              "        vertical-align: middle;\n",
              "    }\n",
              "\n",
              "    .dataframe tbody tr th {\n",
              "        vertical-align: top;\n",
              "    }\n",
              "\n",
              "    .dataframe thead th {\n",
              "        text-align: right;\n",
              "    }\n",
              "</style>\n",
              "<table border=\"1\" class=\"dataframe\">\n",
              "  <thead>\n",
              "    <tr style=\"text-align: right;\">\n",
              "      <th></th>\n",
              "      <th>Region_Code</th>\n",
              "      <th>Response</th>\n",
              "    </tr>\n",
              "  </thead>\n",
              "  <tbody>\n",
              "    <tr>\n",
              "      <th>5315</th>\n",
              "      <td>6194</td>\n",
              "      <td>1.0</td>\n",
              "    </tr>\n",
              "    <tr>\n",
              "      <th>4013</th>\n",
              "      <td>4562</td>\n",
              "      <td>1.0</td>\n",
              "    </tr>\n",
              "    <tr>\n",
              "      <th>4936</th>\n",
              "      <td>5600</td>\n",
              "      <td>1.0</td>\n",
              "    </tr>\n",
              "    <tr>\n",
              "      <th>4044</th>\n",
              "      <td>4595</td>\n",
              "      <td>1.0</td>\n",
              "    </tr>\n",
              "    <tr>\n",
              "      <th>4922</th>\n",
              "      <td>5584</td>\n",
              "      <td>1.0</td>\n",
              "    </tr>\n",
              "    <tr>\n",
              "      <th>...</th>\n",
              "      <td>...</td>\n",
              "      <td>...</td>\n",
              "    </tr>\n",
              "    <tr>\n",
              "      <th>4260</th>\n",
              "      <td>4834</td>\n",
              "      <td>0.0</td>\n",
              "    </tr>\n",
              "    <tr>\n",
              "      <th>4259</th>\n",
              "      <td>4833</td>\n",
              "      <td>0.0</td>\n",
              "    </tr>\n",
              "    <tr>\n",
              "      <th>3056</th>\n",
              "      <td>3536</td>\n",
              "      <td>0.0</td>\n",
              "    </tr>\n",
              "    <tr>\n",
              "      <th>4256</th>\n",
              "      <td>4830</td>\n",
              "      <td>0.0</td>\n",
              "    </tr>\n",
              "    <tr>\n",
              "      <th>4012</th>\n",
              "      <td>4561</td>\n",
              "      <td>0.0</td>\n",
              "    </tr>\n",
              "  </tbody>\n",
              "</table>\n",
              "<p>5316 rows × 2 columns</p>\n",
              "</div>"
            ],
            "text/plain": [
              "      Region_Code  Response\n",
              "5315         6194       1.0\n",
              "4013         4562       1.0\n",
              "4936         5600       1.0\n",
              "4044         4595       1.0\n",
              "4922         5584       1.0\n",
              "...           ...       ...\n",
              "4260         4834       0.0\n",
              "4259         4833       0.0\n",
              "3056         3536       0.0\n",
              "4256         4830       0.0\n",
              "4012         4561       0.0\n",
              "\n",
              "[5316 rows x 2 columns]"
            ]
          },
          "metadata": {
            "tags": []
          },
          "execution_count": 14
        }
      ]
    },
    {
      "cell_type": "code",
      "metadata": {
        "colab": {
          "base_uri": "https://localhost:8080/",
          "height": 731
        },
        "id": "_D7TfEyYUt6S",
        "outputId": "68fcc137-6cda-474c-d031-ba2baa221b1e"
      },
      "source": [
        "train['Reco_Policy_Cat'].unique()\n",
        "train[['Reco_Policy_Cat', 'Response']].groupby(['Reco_Policy_Cat'], as_index=False).mean().sort_values(by='Response', ascending=False)"
      ],
      "execution_count": 15,
      "outputs": [
        {
          "output_type": "execute_result",
          "data": {
            "text/html": [
              "<div>\n",
              "<style scoped>\n",
              "    .dataframe tbody tr th:only-of-type {\n",
              "        vertical-align: middle;\n",
              "    }\n",
              "\n",
              "    .dataframe tbody tr th {\n",
              "        vertical-align: top;\n",
              "    }\n",
              "\n",
              "    .dataframe thead th {\n",
              "        text-align: right;\n",
              "    }\n",
              "</style>\n",
              "<table border=\"1\" class=\"dataframe\">\n",
              "  <thead>\n",
              "    <tr style=\"text-align: right;\">\n",
              "      <th></th>\n",
              "      <th>Reco_Policy_Cat</th>\n",
              "      <th>Response</th>\n",
              "    </tr>\n",
              "  </thead>\n",
              "  <tbody>\n",
              "    <tr>\n",
              "      <th>14</th>\n",
              "      <td>15</td>\n",
              "      <td>0.465635</td>\n",
              "    </tr>\n",
              "    <tr>\n",
              "      <th>21</th>\n",
              "      <td>22</td>\n",
              "      <td>0.328385</td>\n",
              "    </tr>\n",
              "    <tr>\n",
              "      <th>11</th>\n",
              "      <td>12</td>\n",
              "      <td>0.315037</td>\n",
              "    </tr>\n",
              "    <tr>\n",
              "      <th>16</th>\n",
              "      <td>17</td>\n",
              "      <td>0.298456</td>\n",
              "    </tr>\n",
              "    <tr>\n",
              "      <th>4</th>\n",
              "      <td>5</td>\n",
              "      <td>0.290963</td>\n",
              "    </tr>\n",
              "    <tr>\n",
              "      <th>18</th>\n",
              "      <td>19</td>\n",
              "      <td>0.276969</td>\n",
              "    </tr>\n",
              "    <tr>\n",
              "      <th>7</th>\n",
              "      <td>8</td>\n",
              "      <td>0.269330</td>\n",
              "    </tr>\n",
              "    <tr>\n",
              "      <th>19</th>\n",
              "      <td>20</td>\n",
              "      <td>0.254958</td>\n",
              "    </tr>\n",
              "    <tr>\n",
              "      <th>13</th>\n",
              "      <td>14</td>\n",
              "      <td>0.243972</td>\n",
              "    </tr>\n",
              "    <tr>\n",
              "      <th>15</th>\n",
              "      <td>16</td>\n",
              "      <td>0.223555</td>\n",
              "    </tr>\n",
              "    <tr>\n",
              "      <th>17</th>\n",
              "      <td>18</td>\n",
              "      <td>0.220601</td>\n",
              "    </tr>\n",
              "    <tr>\n",
              "      <th>12</th>\n",
              "      <td>13</td>\n",
              "      <td>0.218527</td>\n",
              "    </tr>\n",
              "    <tr>\n",
              "      <th>20</th>\n",
              "      <td>21</td>\n",
              "      <td>0.193754</td>\n",
              "    </tr>\n",
              "    <tr>\n",
              "      <th>2</th>\n",
              "      <td>3</td>\n",
              "      <td>0.193579</td>\n",
              "    </tr>\n",
              "    <tr>\n",
              "      <th>6</th>\n",
              "      <td>7</td>\n",
              "      <td>0.185851</td>\n",
              "    </tr>\n",
              "    <tr>\n",
              "      <th>9</th>\n",
              "      <td>10</td>\n",
              "      <td>0.176623</td>\n",
              "    </tr>\n",
              "    <tr>\n",
              "      <th>5</th>\n",
              "      <td>6</td>\n",
              "      <td>0.172738</td>\n",
              "    </tr>\n",
              "    <tr>\n",
              "      <th>10</th>\n",
              "      <td>11</td>\n",
              "      <td>0.166453</td>\n",
              "    </tr>\n",
              "    <tr>\n",
              "      <th>8</th>\n",
              "      <td>9</td>\n",
              "      <td>0.166033</td>\n",
              "    </tr>\n",
              "    <tr>\n",
              "      <th>1</th>\n",
              "      <td>2</td>\n",
              "      <td>0.132499</td>\n",
              "    </tr>\n",
              "    <tr>\n",
              "      <th>3</th>\n",
              "      <td>4</td>\n",
              "      <td>0.073892</td>\n",
              "    </tr>\n",
              "    <tr>\n",
              "      <th>0</th>\n",
              "      <td>1</td>\n",
              "      <td>0.004067</td>\n",
              "    </tr>\n",
              "  </tbody>\n",
              "</table>\n",
              "</div>"
            ],
            "text/plain": [
              "    Reco_Policy_Cat  Response\n",
              "14               15  0.465635\n",
              "21               22  0.328385\n",
              "11               12  0.315037\n",
              "16               17  0.298456\n",
              "4                 5  0.290963\n",
              "18               19  0.276969\n",
              "7                 8  0.269330\n",
              "19               20  0.254958\n",
              "13               14  0.243972\n",
              "15               16  0.223555\n",
              "17               18  0.220601\n",
              "12               13  0.218527\n",
              "20               21  0.193754\n",
              "2                 3  0.193579\n",
              "6                 7  0.185851\n",
              "9                10  0.176623\n",
              "5                 6  0.172738\n",
              "10               11  0.166453\n",
              "8                 9  0.166033\n",
              "1                 2  0.132499\n",
              "3                 4  0.073892\n",
              "0                 1  0.004067"
            ]
          },
          "metadata": {
            "tags": []
          },
          "execution_count": 15
        }
      ]
    },
    {
      "cell_type": "code",
      "metadata": {
        "colab": {
          "base_uri": "https://localhost:8080/",
          "height": 103
        },
        "id": "i-Xi2VLJ7mQO",
        "outputId": "f27ee063-26b0-4e43-da6c-41dbdddcdcda"
      },
      "source": [
        "'''\n",
        "for dataset in combine:    \n",
        "    dataset.loc[ dataset['Policy_Sales_Channel'] <=33.4 , 'Policy_Sales_Channel'] = 0\n",
        "    dataset.loc[(dataset['Policy_Sales_Channel'] > 33.4) & (dataset['Policy_Sales_Channel'] <= 65.8), 'Policy_Sales_Channel'] = 1\n",
        "    dataset.loc[(dataset['Policy_Sales_Channel'] > 65.8) & (dataset['Policy_Sales_Channel'] <= 98.2), 'Policy_Sales_Channel'] = 2\n",
        "    dataset.loc[(dataset['Policy_Sales_Channel'] > 98.2) & (dataset['Policy_Sales_Channel'] <= 130.6), 'Policy_Sales_Channel'] = 3\n",
        "    dataset.loc[ dataset['Policy_Sales_Channel'] > 130.6, 'Policy_Sales_Channel']=4\n",
        "    dataset['Policy_Sales_Channel'] = dataset['Policy_Sales_Channel'].astype(int)\n",
        "\n",
        "#train = train.drop(['channel_band'], axis=1)\n",
        "combine = [train, test]\n",
        "    \n",
        "train.head(10)\n",
        "'''"
      ],
      "execution_count": 16,
      "outputs": [
        {
          "output_type": "execute_result",
          "data": {
            "application/vnd.google.colaboratory.intrinsic+json": {
              "type": "string"
            },
            "text/plain": [
              "\"\\nfor dataset in combine:    \\n    dataset.loc[ dataset['Policy_Sales_Channel'] <=33.4 , 'Policy_Sales_Channel'] = 0\\n    dataset.loc[(dataset['Policy_Sales_Channel'] > 33.4) & (dataset['Policy_Sales_Channel'] <= 65.8), 'Policy_Sales_Channel'] = 1\\n    dataset.loc[(dataset['Policy_Sales_Channel'] > 65.8) & (dataset['Policy_Sales_Channel'] <= 98.2), 'Policy_Sales_Channel'] = 2\\n    dataset.loc[(dataset['Policy_Sales_Channel'] > 98.2) & (dataset['Policy_Sales_Channel'] <= 130.6), 'Policy_Sales_Channel'] = 3\\n    dataset.loc[ dataset['Policy_Sales_Channel'] > 130.6, 'Policy_Sales_Channel']=4\\n    dataset['Policy_Sales_Channel'] = dataset['Policy_Sales_Channel'].astype(int)\\n\\n#train = train.drop(['channel_band'], axis=1)\\ncombine = [train, test]\\n    \\ntrain.head(10)\\n\""
            ]
          },
          "metadata": {
            "tags": []
          },
          "execution_count": 16
        }
      ]
    },
    {
      "cell_type": "code",
      "metadata": {
        "colab": {
          "base_uri": "https://localhost:8080/",
          "height": 241
        },
        "id": "G0jCXFkB7HXV",
        "outputId": "d1ebf371-7373-4098-88a2-99db6c3b6dcd"
      },
      "source": [
        "train.head()"
      ],
      "execution_count": 17,
      "outputs": [
        {
          "output_type": "execute_result",
          "data": {
            "text/html": [
              "<div>\n",
              "<style scoped>\n",
              "    .dataframe tbody tr th:only-of-type {\n",
              "        vertical-align: middle;\n",
              "    }\n",
              "\n",
              "    .dataframe tbody tr th {\n",
              "        vertical-align: top;\n",
              "    }\n",
              "\n",
              "    .dataframe thead th {\n",
              "        text-align: right;\n",
              "    }\n",
              "</style>\n",
              "<table border=\"1\" class=\"dataframe\">\n",
              "  <thead>\n",
              "    <tr style=\"text-align: right;\">\n",
              "      <th></th>\n",
              "      <th>ID</th>\n",
              "      <th>City_Code</th>\n",
              "      <th>Region_Code</th>\n",
              "      <th>Accomodation_Type</th>\n",
              "      <th>Reco_Insurance_Type</th>\n",
              "      <th>Upper_Age</th>\n",
              "      <th>Lower_Age</th>\n",
              "      <th>Is_Spouse</th>\n",
              "      <th>Health Indicator</th>\n",
              "      <th>Holding_Policy_Duration</th>\n",
              "      <th>Holding_Policy_Type</th>\n",
              "      <th>Reco_Policy_Cat</th>\n",
              "      <th>Reco_Policy_Premium</th>\n",
              "      <th>Response</th>\n",
              "    </tr>\n",
              "  </thead>\n",
              "  <tbody>\n",
              "    <tr>\n",
              "      <th>0</th>\n",
              "      <td>1</td>\n",
              "      <td>C3</td>\n",
              "      <td>3213</td>\n",
              "      <td>Rented</td>\n",
              "      <td>Individual</td>\n",
              "      <td>36</td>\n",
              "      <td>36</td>\n",
              "      <td>No</td>\n",
              "      <td>X1</td>\n",
              "      <td>14+</td>\n",
              "      <td>3.0</td>\n",
              "      <td>22</td>\n",
              "      <td>11628.0</td>\n",
              "      <td>0</td>\n",
              "    </tr>\n",
              "    <tr>\n",
              "      <th>1</th>\n",
              "      <td>2</td>\n",
              "      <td>C5</td>\n",
              "      <td>1117</td>\n",
              "      <td>Owned</td>\n",
              "      <td>Joint</td>\n",
              "      <td>75</td>\n",
              "      <td>22</td>\n",
              "      <td>No</td>\n",
              "      <td>X2</td>\n",
              "      <td>1.0</td>\n",
              "      <td>3.0</td>\n",
              "      <td>22</td>\n",
              "      <td>30510.0</td>\n",
              "      <td>0</td>\n",
              "    </tr>\n",
              "    <tr>\n",
              "      <th>2</th>\n",
              "      <td>3</td>\n",
              "      <td>C5</td>\n",
              "      <td>3732</td>\n",
              "      <td>Owned</td>\n",
              "      <td>Individual</td>\n",
              "      <td>32</td>\n",
              "      <td>32</td>\n",
              "      <td>No</td>\n",
              "      <td>X1</td>\n",
              "      <td>1.0</td>\n",
              "      <td>1.0</td>\n",
              "      <td>19</td>\n",
              "      <td>7450.0</td>\n",
              "      <td>1</td>\n",
              "    </tr>\n",
              "    <tr>\n",
              "      <th>3</th>\n",
              "      <td>4</td>\n",
              "      <td>C24</td>\n",
              "      <td>4378</td>\n",
              "      <td>Owned</td>\n",
              "      <td>Joint</td>\n",
              "      <td>52</td>\n",
              "      <td>48</td>\n",
              "      <td>No</td>\n",
              "      <td>X1</td>\n",
              "      <td>14+</td>\n",
              "      <td>3.0</td>\n",
              "      <td>19</td>\n",
              "      <td>17780.0</td>\n",
              "      <td>0</td>\n",
              "    </tr>\n",
              "    <tr>\n",
              "      <th>4</th>\n",
              "      <td>5</td>\n",
              "      <td>C8</td>\n",
              "      <td>2190</td>\n",
              "      <td>Rented</td>\n",
              "      <td>Individual</td>\n",
              "      <td>44</td>\n",
              "      <td>44</td>\n",
              "      <td>No</td>\n",
              "      <td>X2</td>\n",
              "      <td>3.0</td>\n",
              "      <td>1.0</td>\n",
              "      <td>16</td>\n",
              "      <td>10404.0</td>\n",
              "      <td>0</td>\n",
              "    </tr>\n",
              "  </tbody>\n",
              "</table>\n",
              "</div>"
            ],
            "text/plain": [
              "   ID City_Code  Region_Code  ... Reco_Policy_Cat Reco_Policy_Premium  Response\n",
              "0   1        C3         3213  ...              22             11628.0         0\n",
              "1   2        C5         1117  ...              22             30510.0         0\n",
              "2   3        C5         3732  ...              19              7450.0         1\n",
              "3   4       C24         4378  ...              19             17780.0         0\n",
              "4   5        C8         2190  ...              16             10404.0         0\n",
              "\n",
              "[5 rows x 14 columns]"
            ]
          },
          "metadata": {
            "tags": []
          },
          "execution_count": 17
        }
      ]
    },
    {
      "cell_type": "code",
      "metadata": {
        "id": "-t6HPi848Ust"
      },
      "source": [
        "train['age_gap'] = train['Upper_Age'] - train['Lower_Age']\n",
        "test['age_gap'] = test['Upper_Age'] - test['Lower_Age']"
      ],
      "execution_count": 18,
      "outputs": []
    },
    {
      "cell_type": "code",
      "metadata": {
        "id": "9zBha8b_8iMe"
      },
      "source": [
        "del train['Upper_Age']\n",
        "del train['Lower_Age']\n",
        "del test['Upper_Age']\n",
        "del test['Lower_Age']"
      ],
      "execution_count": 19,
      "outputs": []
    },
    {
      "cell_type": "code",
      "metadata": {
        "colab": {
          "base_uri": "https://localhost:8080/",
          "height": 266
        },
        "id": "-4HPJVxiO1pB",
        "outputId": "6f6e5129-7dd9-4699-8f46-e4575ee2c81b"
      },
      "source": [
        "train.corr()"
      ],
      "execution_count": 20,
      "outputs": [
        {
          "output_type": "execute_result",
          "data": {
            "text/html": [
              "<div>\n",
              "<style scoped>\n",
              "    .dataframe tbody tr th:only-of-type {\n",
              "        vertical-align: middle;\n",
              "    }\n",
              "\n",
              "    .dataframe tbody tr th {\n",
              "        vertical-align: top;\n",
              "    }\n",
              "\n",
              "    .dataframe thead th {\n",
              "        text-align: right;\n",
              "    }\n",
              "</style>\n",
              "<table border=\"1\" class=\"dataframe\">\n",
              "  <thead>\n",
              "    <tr style=\"text-align: right;\">\n",
              "      <th></th>\n",
              "      <th>ID</th>\n",
              "      <th>Region_Code</th>\n",
              "      <th>Holding_Policy_Type</th>\n",
              "      <th>Reco_Policy_Cat</th>\n",
              "      <th>Reco_Policy_Premium</th>\n",
              "      <th>Response</th>\n",
              "      <th>age_gap</th>\n",
              "    </tr>\n",
              "  </thead>\n",
              "  <tbody>\n",
              "    <tr>\n",
              "      <th>ID</th>\n",
              "      <td>1.000000</td>\n",
              "      <td>-0.000465</td>\n",
              "      <td>0.004605</td>\n",
              "      <td>-0.002235</td>\n",
              "      <td>-0.002350</td>\n",
              "      <td>0.005159</td>\n",
              "      <td>-0.007126</td>\n",
              "    </tr>\n",
              "    <tr>\n",
              "      <th>Region_Code</th>\n",
              "      <td>-0.000465</td>\n",
              "      <td>1.000000</td>\n",
              "      <td>0.009348</td>\n",
              "      <td>-0.065120</td>\n",
              "      <td>-0.010797</td>\n",
              "      <td>0.001121</td>\n",
              "      <td>0.000711</td>\n",
              "    </tr>\n",
              "    <tr>\n",
              "      <th>Holding_Policy_Type</th>\n",
              "      <td>0.004605</td>\n",
              "      <td>0.009348</td>\n",
              "      <td>1.000000</td>\n",
              "      <td>0.053760</td>\n",
              "      <td>0.012266</td>\n",
              "      <td>0.006208</td>\n",
              "      <td>0.011147</td>\n",
              "    </tr>\n",
              "    <tr>\n",
              "      <th>Reco_Policy_Cat</th>\n",
              "      <td>-0.002235</td>\n",
              "      <td>-0.065120</td>\n",
              "      <td>0.053760</td>\n",
              "      <td>1.000000</td>\n",
              "      <td>0.060989</td>\n",
              "      <td>0.114321</td>\n",
              "      <td>0.010295</td>\n",
              "    </tr>\n",
              "    <tr>\n",
              "      <th>Reco_Policy_Premium</th>\n",
              "      <td>-0.002350</td>\n",
              "      <td>-0.010797</td>\n",
              "      <td>0.012266</td>\n",
              "      <td>0.060989</td>\n",
              "      <td>1.000000</td>\n",
              "      <td>0.007943</td>\n",
              "      <td>0.445343</td>\n",
              "    </tr>\n",
              "    <tr>\n",
              "      <th>Response</th>\n",
              "      <td>0.005159</td>\n",
              "      <td>0.001121</td>\n",
              "      <td>0.006208</td>\n",
              "      <td>0.114321</td>\n",
              "      <td>0.007943</td>\n",
              "      <td>1.000000</td>\n",
              "      <td>0.012284</td>\n",
              "    </tr>\n",
              "    <tr>\n",
              "      <th>age_gap</th>\n",
              "      <td>-0.007126</td>\n",
              "      <td>0.000711</td>\n",
              "      <td>0.011147</td>\n",
              "      <td>0.010295</td>\n",
              "      <td>0.445343</td>\n",
              "      <td>0.012284</td>\n",
              "      <td>1.000000</td>\n",
              "    </tr>\n",
              "  </tbody>\n",
              "</table>\n",
              "</div>"
            ],
            "text/plain": [
              "                           ID  Region_Code  ...  Response   age_gap\n",
              "ID                   1.000000    -0.000465  ...  0.005159 -0.007126\n",
              "Region_Code         -0.000465     1.000000  ...  0.001121  0.000711\n",
              "Holding_Policy_Type  0.004605     0.009348  ...  0.006208  0.011147\n",
              "Reco_Policy_Cat     -0.002235    -0.065120  ...  0.114321  0.010295\n",
              "Reco_Policy_Premium -0.002350    -0.010797  ...  0.007943  0.445343\n",
              "Response             0.005159     0.001121  ...  1.000000  0.012284\n",
              "age_gap             -0.007126     0.000711  ...  0.012284  1.000000\n",
              "\n",
              "[7 rows x 7 columns]"
            ]
          },
          "metadata": {
            "tags": []
          },
          "execution_count": 20
        }
      ]
    },
    {
      "cell_type": "markdown",
      "metadata": {
        "id": "o_GqMsF_STPR"
      },
      "source": [
        "# Preprocessing"
      ]
    },
    {
      "cell_type": "code",
      "metadata": {
        "id": "8P1H49hC0hno"
      },
      "source": [
        "train[\"Accomodation_Type\"].replace([\"Rented\",\"Owned\"],[0,1],inplace = True)\n",
        "train[\"Reco_Insurance_Type\"].replace([\"Individual\",\"Joint\"],[0,1],inplace = True)\n",
        "train[\"Is_Spouse\"].replace([\"Yes\",\"No\"],[0,1],inplace = True)\n",
        "train['Holding_Policy_Duration'].replace('14+','14',inplace= True)"
      ],
      "execution_count": 21,
      "outputs": []
    },
    {
      "cell_type": "code",
      "metadata": {
        "id": "98teUqjXAgu4"
      },
      "source": [
        "test[\"Accomodation_Type\"].replace([\"Rented\",\"Owned\"],[0,1],inplace = True)\n",
        "test[\"Reco_Insurance_Type\"].replace([\"Individual\",\"Joint\"],[0,1],inplace = True)\n",
        "test[\"Is_Spouse\"].replace([\"Yes\",\"No\"],[0,1],inplace = True)\n",
        "test['Holding_Policy_Duration'].replace('14+','14',inplace= True)"
      ],
      "execution_count": 22,
      "outputs": []
    },
    {
      "cell_type": "code",
      "metadata": {
        "id": "UDxyGIXCVw2P"
      },
      "source": [
        "train['Holding_Policy_Duration']= train['Holding_Policy_Duration'].astype('float64')\n",
        "test['Holding_Policy_Duration'] = test['Holding_Policy_Duration'].astype('float64')"
      ],
      "execution_count": 23,
      "outputs": []
    },
    {
      "cell_type": "code",
      "metadata": {
        "id": "3uQXER8fVot0"
      },
      "source": [
        "from sklearn.preprocessing import LabelEncoder\n",
        "lb = LabelEncoder()\n",
        "train['Health Indicator'] = lb.fit_transform(train['Health Indicator'])\n",
        "test['Health Indicator'] = lb.transform(test['Health Indicator'])"
      ],
      "execution_count": 24,
      "outputs": []
    },
    {
      "cell_type": "code",
      "metadata": {
        "id": "wNVKhgdpQFJw"
      },
      "source": [
        "cols_to_scale = ['Holding_Policy_Duration','Holding_Policy_Type','Reco_Policy_Cat','Reco_Policy_Premium','age_gap']\n",
        "\n",
        "from sklearn.preprocessing import StandardScaler\n",
        "scaler = StandardScaler()\n",
        "train[cols_to_scale] = scaler.fit_transform(train[cols_to_scale])\n",
        "test[cols_to_scale] = scaler.transform(test[cols_to_scale])"
      ],
      "execution_count": 25,
      "outputs": []
    },
    {
      "cell_type": "code",
      "metadata": {
        "colab": {
          "base_uri": "https://localhost:8080/"
        },
        "id": "Xo52PI8_HJlq",
        "outputId": "8859f4de-defb-4563-ee66-51a80c06a490"
      },
      "source": [
        "print(len(train[train['Response'] == 1]))\n",
        "print(len(train[train['Response'] == 0]))"
      ],
      "execution_count": 26,
      "outputs": [
        {
          "output_type": "stream",
          "text": [
            "12209\n",
            "38673\n"
          ],
          "name": "stdout"
        }
      ]
    },
    {
      "cell_type": "code",
      "metadata": {
        "id": "ryZwNQfIHK8O"
      },
      "source": [
        "positives = train[train['Response'] == 1].index  \n",
        "negatives = train[train['Response'] == 0].index"
      ],
      "execution_count": 27,
      "outputs": []
    },
    {
      "cell_type": "code",
      "metadata": {
        "id": "X1uT2DHEHOkk"
      },
      "source": [
        "import numpy as np\n",
        "np.random.seed(42)\n",
        "negIndexes = np.random.choice(negatives, len(positives)*2, replace = False)\n",
        "trainDf = train.iloc[list(positives)+list(negIndexes)]"
      ],
      "execution_count": 28,
      "outputs": []
    },
    {
      "cell_type": "code",
      "metadata": {
        "colab": {
          "base_uri": "https://localhost:8080/",
          "height": 148
        },
        "id": "q9a_sBOIIynL",
        "outputId": "859b978f-0f56-42aa-a8fc-4c3e8d32b400"
      },
      "source": [
        "from sklearn.utils import shuffle\n",
        "df = shuffle(trainDf)\n",
        "df.head(2)"
      ],
      "execution_count": 29,
      "outputs": [
        {
          "output_type": "execute_result",
          "data": {
            "text/html": [
              "<div>\n",
              "<style scoped>\n",
              "    .dataframe tbody tr th:only-of-type {\n",
              "        vertical-align: middle;\n",
              "    }\n",
              "\n",
              "    .dataframe tbody tr th {\n",
              "        vertical-align: top;\n",
              "    }\n",
              "\n",
              "    .dataframe thead th {\n",
              "        text-align: right;\n",
              "    }\n",
              "</style>\n",
              "<table border=\"1\" class=\"dataframe\">\n",
              "  <thead>\n",
              "    <tr style=\"text-align: right;\">\n",
              "      <th></th>\n",
              "      <th>ID</th>\n",
              "      <th>City_Code</th>\n",
              "      <th>Region_Code</th>\n",
              "      <th>Accomodation_Type</th>\n",
              "      <th>Reco_Insurance_Type</th>\n",
              "      <th>Is_Spouse</th>\n",
              "      <th>Health Indicator</th>\n",
              "      <th>Holding_Policy_Duration</th>\n",
              "      <th>Holding_Policy_Type</th>\n",
              "      <th>Reco_Policy_Cat</th>\n",
              "      <th>Reco_Policy_Premium</th>\n",
              "      <th>Response</th>\n",
              "      <th>age_gap</th>\n",
              "    </tr>\n",
              "  </thead>\n",
              "  <tbody>\n",
              "    <tr>\n",
              "      <th>39716</th>\n",
              "      <td>39717</td>\n",
              "      <td>C2</td>\n",
              "      <td>133</td>\n",
              "      <td>0</td>\n",
              "      <td>0</td>\n",
              "      <td>1</td>\n",
              "      <td>0</td>\n",
              "      <td>-0.707211</td>\n",
              "      <td>0.400939</td>\n",
              "      <td>0.297261</td>\n",
              "      <td>-1.380263</td>\n",
              "      <td>1</td>\n",
              "      <td>-0.30842</td>\n",
              "    </tr>\n",
              "    <tr>\n",
              "      <th>13778</th>\n",
              "      <td>13779</td>\n",
              "      <td>C4</td>\n",
              "      <td>1417</td>\n",
              "      <td>1</td>\n",
              "      <td>0</td>\n",
              "      <td>1</td>\n",
              "      <td>0</td>\n",
              "      <td>-0.707211</td>\n",
              "      <td>0.400939</td>\n",
              "      <td>0.454975</td>\n",
              "      <td>-0.888307</td>\n",
              "      <td>0</td>\n",
              "      <td>-0.30842</td>\n",
              "    </tr>\n",
              "  </tbody>\n",
              "</table>\n",
              "</div>"
            ],
            "text/plain": [
              "          ID City_Code  Region_Code  ...  Reco_Policy_Premium  Response  age_gap\n",
              "39716  39717        C2          133  ...            -1.380263         1 -0.30842\n",
              "13778  13779        C4         1417  ...            -0.888307         0 -0.30842\n",
              "\n",
              "[2 rows x 13 columns]"
            ]
          },
          "metadata": {
            "tags": []
          },
          "execution_count": 29
        }
      ]
    },
    {
      "cell_type": "markdown",
      "metadata": {
        "id": "mL8ss_cWN6Ic"
      },
      "source": [
        "# Deep learning\n"
      ]
    },
    {
      "cell_type": "code",
      "metadata": {
        "id": "gMTfqUexA2yh"
      },
      "source": [
        "import keras.backend as K\n",
        "import tensorflow as tf"
      ],
      "execution_count": null,
      "outputs": []
    },
    {
      "cell_type": "code",
      "metadata": {
        "id": "Y8tcdJD5A44c"
      },
      "source": [
        "def focal_loss(gamma=2., alpha=.25):\n",
        "\tdef focal_loss_fixed(y_true, y_pred):\n",
        "\t\tpt_1 = tf.where(tf.equal(y_true, 1), y_pred, tf.ones_like(y_pred))\n",
        "\t\tpt_0 = tf.where(tf.equal(y_true, 0), y_pred, tf.zeros_like(y_pred))\n",
        "\t\treturn -K.mean(alpha * K.pow(1. - pt_1, gamma) * K.log(pt_1)) - K.mean((1 - alpha) * K.pow(pt_0, gamma) * K.log(1. - pt_0))\n",
        "\treturn focal_loss_fixed\n"
      ],
      "execution_count": null,
      "outputs": []
    },
    {
      "cell_type": "code",
      "metadata": {
        "id": "KVHRzfZVMFhq"
      },
      "source": [
        "# importing libraries and keras packages\n",
        "from keras.models import Sequential\n",
        "from keras.layers import Dense , Dropout,BatchNormalization\n",
        "from keras.optimizers import SGD\n",
        "from sklearn.model_selection import train_test_split\n",
        "'''\n",
        "negIndexes = np.random.choice(negatives, len(positives)*3, replace = False)\n",
        "trainDf = train.iloc[list(positives)+list(negIndexes)]\n",
        "df = shuffle(trainDf)\n",
        "\n",
        "X = df.drop(['id','Response'], axis=1)\n",
        "y = df['Response'].values\n",
        "test_data = test.drop(['id'], axis=1)\n",
        "'''\n",
        "# Initializing the ann\n",
        "classifier = Sequential()\n",
        "\n",
        "# adding layers to classifier\n",
        "classifier.add(Dense(units = 16 , activation = 'relu',kernel_initializer='he_uniform' , input_dim = X.shape[1]))\n",
        "classifier.add(BatchNormalization())\n",
        "classifier.add(Dropout(0.2))\n",
        "classifier.add(Dense(units = 32 , activation= 'relu',kernel_initializer='he_uniform'))\n",
        "classifier.add(BatchNormalization())\n",
        "classifier.add(Dropout(0.3))\n",
        "classifier.add(Dense(units = 32 , activation= 'relu',kernel_initializer='he_uniform'))\n",
        "classifier.add(BatchNormalization())\n",
        "classifier.add(Dropout(0.4))\n",
        "classifier.add(Dense(units = 1 , activation='sigmoid'))\n",
        "\n",
        "# compiling ann\n",
        "opt = SGD(lr=0.001, momentum=0.9) \n",
        "classifier.compile(optimizer= 'sgd' , loss = focal_loss(gamma=2.0, alpha=0.25) ,metrics = ['accuracy'])\n",
        "\n",
        "X_train, X_test, y_train, y_test = train_test_split(X, y, test_size=0.33, random_state=1)\n",
        "\n",
        "# Fitting the dataset to ann classifier\n",
        "classifier.fit(X_train , y_train,validation_data=(X_test,y_test), batch_size =32 ,epochs = 20)\n"
      ],
      "execution_count": null,
      "outputs": []
    },
    {
      "cell_type": "code",
      "metadata": {
        "colab": {
          "base_uri": "https://localhost:8080/"
        },
        "id": "oA3gQKknUa_r",
        "outputId": "cba718cf-c8ce-40b0-e038-f65f265be89c"
      },
      "source": [
        "print(classification_report(y_test,classifier.predict_classes(X_test)))"
      ],
      "execution_count": null,
      "outputs": [
        {
          "output_type": "stream",
          "text": [
            "              precision    recall  f1-score   support\n",
            "\n",
            "           0       0.86      1.00      0.92     73815\n",
            "           1       0.00      0.00      0.00     12360\n",
            "\n",
            "    accuracy                           0.86     86175\n",
            "   macro avg       0.43      0.50      0.46     86175\n",
            "weighted avg       0.73      0.86      0.79     86175\n",
            "\n"
          ],
          "name": "stdout"
        }
      ]
    },
    {
      "cell_type": "markdown",
      "metadata": {
        "id": "7m9y58QFS_lg"
      },
      "source": [
        "# Classifiers"
      ]
    },
    {
      "cell_type": "code",
      "metadata": {
        "id": "3YAPm6oK1ELi"
      },
      "source": [
        "X = train.drop(['ID','Response','City_Code','Region_Code'], axis=1)\n",
        "y = train['Response'].values\n",
        "test_data = test.drop(['ID','City_Code','Region_Code'], axis=1)\n",
        "from sklearn.model_selection import train_test_split\n",
        "X_train, X_test, y_train, y_test = train_test_split(X, y, test_size=0.2, random_state=1,stratify = y)"
      ],
      "execution_count": 64,
      "outputs": []
    },
    {
      "cell_type": "code",
      "metadata": {
        "id": "E3h1Lo3AS6Wy"
      },
      "source": [
        "from sklearn.linear_model import LogisticRegression\n",
        "from sklearn.naive_bayes import GaussianNB\n",
        "\n",
        "logreg = LogisticRegression()\n",
        "\n",
        "logreg.fit(X_train,y_train)\n",
        "print(logreg.score(X_test,y_test))\n",
        "from sklearn.metrics import confusion_matrix,classification_report,roc_auc_score\n",
        "print(classification_report(y_test,logreg.predict(X_test)))\n",
        "print(roc_auc_score(y_test,logreg.predict(X_test)))"
      ],
      "execution_count": null,
      "outputs": []
    },
    {
      "cell_type": "code",
      "metadata": {
        "id": "JNQc0H2_REqa"
      },
      "source": [
        "import warnings\n",
        "warnings.filterwarnings('ignore')"
      ],
      "execution_count": 31,
      "outputs": []
    },
    {
      "cell_type": "code",
      "metadata": {
        "colab": {
          "base_uri": "https://localhost:8080/",
          "height": 421
        },
        "id": "_Bo18xGTCXK7",
        "outputId": "020dc4d6-b063-46b9-8fcd-e4d20cdc0fba"
      },
      "source": [
        "from sklearn.linear_model import LogisticRegression\n",
        "logreg = LogisticRegression()\n",
        "X_train, X_test, y_train, y_test = train_test_split(X, y, test_size=0.33, random_state=1)\n",
        "logreg.fit(X_train,y_train)\n",
        "logreg.score(X_test,y_test)\n",
        "coeff_df = pd.DataFrame(train.columns.delete(0))\n",
        "coeff_df.columns = ['Feature']\n",
        "coeff_df[\"Correlation\"] = pd.Series(logreg.coef_[0])\n",
        "\n",
        "coeff_df.sort_values(by='Correlation', ascending=False)"
      ],
      "execution_count": null,
      "outputs": [
        {
          "output_type": "execute_result",
          "data": {
            "text/html": [
              "<div>\n",
              "<style scoped>\n",
              "    .dataframe tbody tr th:only-of-type {\n",
              "        vertical-align: middle;\n",
              "    }\n",
              "\n",
              "    .dataframe tbody tr th {\n",
              "        vertical-align: top;\n",
              "    }\n",
              "\n",
              "    .dataframe thead th {\n",
              "        text-align: right;\n",
              "    }\n",
              "</style>\n",
              "<table border=\"1\" class=\"dataframe\">\n",
              "  <thead>\n",
              "    <tr style=\"text-align: right;\">\n",
              "      <th></th>\n",
              "      <th>Feature</th>\n",
              "      <th>Correlation</th>\n",
              "    </tr>\n",
              "  </thead>\n",
              "  <tbody>\n",
              "    <tr>\n",
              "      <th>6</th>\n",
              "      <td>Holding_Policy_Duration</td>\n",
              "      <td>0.286522</td>\n",
              "    </tr>\n",
              "    <tr>\n",
              "      <th>1</th>\n",
              "      <td>Region_Code</td>\n",
              "      <td>0.089968</td>\n",
              "    </tr>\n",
              "    <tr>\n",
              "      <th>2</th>\n",
              "      <td>Accomodation_Type</td>\n",
              "      <td>0.072828</td>\n",
              "    </tr>\n",
              "    <tr>\n",
              "      <th>4</th>\n",
              "      <td>Is_Spouse</td>\n",
              "      <td>0.048669</td>\n",
              "    </tr>\n",
              "    <tr>\n",
              "      <th>8</th>\n",
              "      <td>Reco_Policy_Cat</td>\n",
              "      <td>0.024706</td>\n",
              "    </tr>\n",
              "    <tr>\n",
              "      <th>3</th>\n",
              "      <td>Reco_Insurance_Type</td>\n",
              "      <td>-0.000538</td>\n",
              "    </tr>\n",
              "    <tr>\n",
              "      <th>0</th>\n",
              "      <td>City_Code</td>\n",
              "      <td>-0.004377</td>\n",
              "    </tr>\n",
              "    <tr>\n",
              "      <th>7</th>\n",
              "      <td>Holding_Policy_Type</td>\n",
              "      <td>-0.027064</td>\n",
              "    </tr>\n",
              "    <tr>\n",
              "      <th>5</th>\n",
              "      <td>Health Indicator</td>\n",
              "      <td>-0.028018</td>\n",
              "    </tr>\n",
              "    <tr>\n",
              "      <th>9</th>\n",
              "      <td>Reco_Policy_Premium</td>\n",
              "      <td>NaN</td>\n",
              "    </tr>\n",
              "    <tr>\n",
              "      <th>10</th>\n",
              "      <td>Response</td>\n",
              "      <td>NaN</td>\n",
              "    </tr>\n",
              "    <tr>\n",
              "      <th>11</th>\n",
              "      <td>age_gap</td>\n",
              "      <td>NaN</td>\n",
              "    </tr>\n",
              "  </tbody>\n",
              "</table>\n",
              "</div>"
            ],
            "text/plain": [
              "                    Feature  Correlation\n",
              "6   Holding_Policy_Duration     0.286522\n",
              "1               Region_Code     0.089968\n",
              "2         Accomodation_Type     0.072828\n",
              "4                 Is_Spouse     0.048669\n",
              "8           Reco_Policy_Cat     0.024706\n",
              "3       Reco_Insurance_Type    -0.000538\n",
              "0                 City_Code    -0.004377\n",
              "7       Holding_Policy_Type    -0.027064\n",
              "5          Health Indicator    -0.028018\n",
              "9       Reco_Policy_Premium          NaN\n",
              "10                 Response          NaN\n",
              "11                  age_gap          NaN"
            ]
          },
          "metadata": {
            "tags": []
          },
          "execution_count": 50
        }
      ]
    },
    {
      "cell_type": "code",
      "metadata": {
        "id": "M23_p9UCM2in",
        "colab": {
          "base_uri": "https://localhost:8080/"
        },
        "outputId": "0506ec0f-494d-4e61-b2e3-7bf9a3fe6dda"
      },
      "source": [
        "from sklearn.svm import SVC\n",
        "from sklearn.tree import DecisionTreeClassifier\n",
        "svm = DecisionTreeClassifier()\n",
        "svm.fit(X_train,y_train)\n",
        "svm.score(X_test,y_test)"
      ],
      "execution_count": null,
      "outputs": [
        {
          "output_type": "execute_result",
          "data": {
            "text/plain": [
              "0.6426255281517147"
            ]
          },
          "metadata": {
            "tags": []
          },
          "execution_count": 36
        }
      ]
    },
    {
      "cell_type": "markdown",
      "metadata": {
        "id": "qIDSQo2pJvo8"
      },
      "source": [
        "# XGB + Oversampling + local Outliars"
      ]
    },
    {
      "cell_type": "code",
      "metadata": {
        "id": "1VUN6FFAK5ZS"
      },
      "source": [
        "from sklearn.neighbors import LocalOutlierFactor\n",
        "lof = LocalOutlierFactor()\n",
        "X = train.drop(['ID','Response','City_Code','Region_Code'], axis=1)\n",
        "y = train['Response']\n",
        "test_data = test.drop(['ID','City_Code','Region_Code'], axis=1)\n",
        "\n",
        "from sklearn.model_selection import train_test_split\n",
        "X_train, X_test, y_train, y_test = train_test_split(X, y, test_size=0.2, random_state=1,stratify = y)\n",
        "\n",
        "yhat = lof.fit_predict(X_train)\n",
        "# select all rows that are not outliers\n",
        "mask = yhat != -1\n",
        "#X_train, y_train = X_train.iloc[mask, :], y_train.iloc[mask]\n",
        "\n"
      ],
      "execution_count": 100,
      "outputs": []
    },
    {
      "cell_type": "code",
      "metadata": {
        "id": "QBaDMvnE0QeO"
      },
      "source": [
        "from imblearn.over_sampling import SMOTE\n",
        "oversample = SMOTE()\n",
        "X_train, y_train = oversample.fit_resample(X_train, y_train)"
      ],
      "execution_count": 77,
      "outputs": []
    },
    {
      "cell_type": "code",
      "metadata": {
        "colab": {
          "base_uri": "https://localhost:8080/",
          "height": 148
        },
        "id": "0MAZ3oqkqzZS",
        "outputId": "30c7b54d-890a-4957-d395-d525856b1133"
      },
      "source": [
        "train.head(2)"
      ],
      "execution_count": 132,
      "outputs": [
        {
          "output_type": "execute_result",
          "data": {
            "text/html": [
              "<div>\n",
              "<style scoped>\n",
              "    .dataframe tbody tr th:only-of-type {\n",
              "        vertical-align: middle;\n",
              "    }\n",
              "\n",
              "    .dataframe tbody tr th {\n",
              "        vertical-align: top;\n",
              "    }\n",
              "\n",
              "    .dataframe thead th {\n",
              "        text-align: right;\n",
              "    }\n",
              "</style>\n",
              "<table border=\"1\" class=\"dataframe\">\n",
              "  <thead>\n",
              "    <tr style=\"text-align: right;\">\n",
              "      <th></th>\n",
              "      <th>ID</th>\n",
              "      <th>City_Code</th>\n",
              "      <th>Region_Code</th>\n",
              "      <th>Accomodation_Type</th>\n",
              "      <th>Reco_Insurance_Type</th>\n",
              "      <th>Is_Spouse</th>\n",
              "      <th>Health Indicator</th>\n",
              "      <th>Holding_Policy_Duration</th>\n",
              "      <th>Holding_Policy_Type</th>\n",
              "      <th>Reco_Policy_Cat</th>\n",
              "      <th>Reco_Policy_Premium</th>\n",
              "      <th>Response</th>\n",
              "      <th>age_gap</th>\n",
              "    </tr>\n",
              "  </thead>\n",
              "  <tbody>\n",
              "    <tr>\n",
              "      <th>0</th>\n",
              "      <td>1</td>\n",
              "      <td>C3</td>\n",
              "      <td>3213</td>\n",
              "      <td>0</td>\n",
              "      <td>0</td>\n",
              "      <td>1</td>\n",
              "      <td>0</td>\n",
              "      <td>2.337901</td>\n",
              "      <td>0.400939</td>\n",
              "      <td>1.08583</td>\n",
              "      <td>-0.387852</td>\n",
              "      <td>0</td>\n",
              "      <td>-0.30842</td>\n",
              "    </tr>\n",
              "    <tr>\n",
              "      <th>1</th>\n",
              "      <td>2</td>\n",
              "      <td>C5</td>\n",
              "      <td>1117</td>\n",
              "      <td>1</td>\n",
              "      <td>1</td>\n",
              "      <td>1</td>\n",
              "      <td>1</td>\n",
              "      <td>-0.707211</td>\n",
              "      <td>0.400939</td>\n",
              "      <td>1.08583</td>\n",
              "      <td>2.477394</td>\n",
              "      <td>0</td>\n",
              "      <td>7.41152</td>\n",
              "    </tr>\n",
              "  </tbody>\n",
              "</table>\n",
              "</div>"
            ],
            "text/plain": [
              "   ID City_Code  Region_Code  ...  Reco_Policy_Premium  Response  age_gap\n",
              "0   1        C3         3213  ...            -0.387852         0 -0.30842\n",
              "1   2        C5         1117  ...             2.477394         0  7.41152\n",
              "\n",
              "[2 rows x 13 columns]"
            ]
          },
          "metadata": {
            "tags": []
          },
          "execution_count": 132
        }
      ]
    },
    {
      "cell_type": "code",
      "metadata": {
        "colab": {
          "base_uri": "https://localhost:8080/"
        },
        "id": "9Lu7dURcPf02",
        "outputId": "d825dc31-2506-4b7e-dc3e-c4a862b7fdd6"
      },
      "source": [
        "import xgboost as xgb\n",
        "# read in data\n",
        "X_new = train.drop(['ID','Response','City_Code','Region_Code','Reco_Insurance_Type','Is_Spouse'], axis=1)\n",
        "y_new = train['Response'].values\n",
        "test_data = test.drop(['ID','City_Code','Region_Code','Reco_Insurance_Type','Is_Spouse'], axis=1)\n",
        "from sklearn.model_selection import train_test_split\n",
        "X_train, X_test, y_train, y_test = train_test_split(X_new, y_new, test_size=0.3, random_state=1,stratify = y_new)\n",
        "\n",
        "\n",
        "dtrain = xgb.DMatrix(X_train,y_train)\n",
        "dtest = xgb.DMatrix(X_test,y_test)\n",
        "evallist = [(dtest, 'eval'), (dtrain, 'train')]\n",
        "# specify parameters via map\n",
        "param = {'booster': 'gbtree',\n",
        "         'n_estimators':200,\n",
        "         'max_depth': 10, 'learning_rate': 0.01,\n",
        "         'objective': 'binary:logistic',\n",
        "         'colsample_bytree':0.8,\n",
        "         'sample_type': 'uniform',\n",
        "         'normalize_type': 'tree',\n",
        "         'rate_drop': 0.1,\n",
        "         'subsample':0.5,\n",
        "         'scale_pos_weight':38673/12209,\n",
        "         'eval_metric':'auc',\n",
        "         \"silent\": 1,\n",
        "         \"early.stop.round\": 5,\n",
        "         'skip_drop': 0.5}\n",
        "\n",
        "clf = xgb.XGBClassifier(**param)\n",
        "\n",
        "clf.fit(X_train, y_train,\n",
        "        eval_set=[(X_train, y_train), (X_test, y_test)],\n",
        "        eval_metric='auc',\n",
        "        verbose=True)\n",
        "\n",
        "evals_result = clf.evals_result()\n",
        "\n",
        "\n",
        "num_round = 10\n",
        "#bst = xgb.train(param, dtrain, num_round,evallist)\n",
        "#preds = bst.predict(dtest)"
      ],
      "execution_count": 137,
      "outputs": [
        {
          "output_type": "stream",
          "text": [
            "[0]\tvalidation_0-auc:0.663489\tvalidation_1-auc:0.615427\n",
            "[1]\tvalidation_0-auc:0.677371\tvalidation_1-auc:0.624695\n",
            "[2]\tvalidation_0-auc:0.683383\tvalidation_1-auc:0.631096\n",
            "[3]\tvalidation_0-auc:0.686203\tvalidation_1-auc:0.633546\n",
            "[4]\tvalidation_0-auc:0.689435\tvalidation_1-auc:0.634602\n",
            "[5]\tvalidation_0-auc:0.693866\tvalidation_1-auc:0.635299\n",
            "[6]\tvalidation_0-auc:0.697432\tvalidation_1-auc:0.637488\n",
            "[7]\tvalidation_0-auc:0.697055\tvalidation_1-auc:0.638841\n",
            "[8]\tvalidation_0-auc:0.697489\tvalidation_1-auc:0.639172\n",
            "[9]\tvalidation_0-auc:0.700396\tvalidation_1-auc:0.638572\n",
            "[10]\tvalidation_0-auc:0.702881\tvalidation_1-auc:0.638384\n",
            "[11]\tvalidation_0-auc:0.705656\tvalidation_1-auc:0.638116\n",
            "[12]\tvalidation_0-auc:0.707883\tvalidation_1-auc:0.638163\n",
            "[13]\tvalidation_0-auc:0.707193\tvalidation_1-auc:0.639256\n",
            "[14]\tvalidation_0-auc:0.709289\tvalidation_1-auc:0.639142\n",
            "[15]\tvalidation_0-auc:0.711433\tvalidation_1-auc:0.638766\n",
            "[16]\tvalidation_0-auc:0.713634\tvalidation_1-auc:0.637711\n",
            "[17]\tvalidation_0-auc:0.714603\tvalidation_1-auc:0.638044\n",
            "[18]\tvalidation_0-auc:0.716246\tvalidation_1-auc:0.639324\n",
            "[19]\tvalidation_0-auc:0.71615\tvalidation_1-auc:0.639674\n",
            "[20]\tvalidation_0-auc:0.719351\tvalidation_1-auc:0.639774\n",
            "[21]\tvalidation_0-auc:0.7197\tvalidation_1-auc:0.639473\n",
            "[22]\tvalidation_0-auc:0.721872\tvalidation_1-auc:0.638063\n",
            "[23]\tvalidation_0-auc:0.722109\tvalidation_1-auc:0.639074\n",
            "[24]\tvalidation_0-auc:0.72348\tvalidation_1-auc:0.638907\n",
            "[25]\tvalidation_0-auc:0.724804\tvalidation_1-auc:0.639413\n",
            "[26]\tvalidation_0-auc:0.724379\tvalidation_1-auc:0.640154\n",
            "[27]\tvalidation_0-auc:0.724087\tvalidation_1-auc:0.639806\n",
            "[28]\tvalidation_0-auc:0.723348\tvalidation_1-auc:0.640545\n",
            "[29]\tvalidation_0-auc:0.723682\tvalidation_1-auc:0.640624\n",
            "[30]\tvalidation_0-auc:0.723101\tvalidation_1-auc:0.641122\n",
            "[31]\tvalidation_0-auc:0.723302\tvalidation_1-auc:0.641237\n",
            "[32]\tvalidation_0-auc:0.722455\tvalidation_1-auc:0.641546\n",
            "[33]\tvalidation_0-auc:0.72335\tvalidation_1-auc:0.641693\n",
            "[34]\tvalidation_0-auc:0.723743\tvalidation_1-auc:0.641913\n",
            "[35]\tvalidation_0-auc:0.724666\tvalidation_1-auc:0.642142\n",
            "[36]\tvalidation_0-auc:0.72631\tvalidation_1-auc:0.64213\n",
            "[37]\tvalidation_0-auc:0.725552\tvalidation_1-auc:0.642372\n",
            "[38]\tvalidation_0-auc:0.725336\tvalidation_1-auc:0.643064\n",
            "[39]\tvalidation_0-auc:0.724687\tvalidation_1-auc:0.64299\n",
            "[40]\tvalidation_0-auc:0.723962\tvalidation_1-auc:0.642992\n",
            "[41]\tvalidation_0-auc:0.724022\tvalidation_1-auc:0.642595\n",
            "[42]\tvalidation_0-auc:0.723924\tvalidation_1-auc:0.642456\n",
            "[43]\tvalidation_0-auc:0.725335\tvalidation_1-auc:0.642334\n",
            "[44]\tvalidation_0-auc:0.72657\tvalidation_1-auc:0.641891\n",
            "[45]\tvalidation_0-auc:0.726488\tvalidation_1-auc:0.641809\n",
            "[46]\tvalidation_0-auc:0.726232\tvalidation_1-auc:0.641801\n",
            "[47]\tvalidation_0-auc:0.727173\tvalidation_1-auc:0.641756\n",
            "[48]\tvalidation_0-auc:0.727521\tvalidation_1-auc:0.641683\n",
            "[49]\tvalidation_0-auc:0.728589\tvalidation_1-auc:0.641675\n",
            "[50]\tvalidation_0-auc:0.72817\tvalidation_1-auc:0.642112\n",
            "[51]\tvalidation_0-auc:0.728257\tvalidation_1-auc:0.642004\n",
            "[52]\tvalidation_0-auc:0.72818\tvalidation_1-auc:0.642099\n",
            "[53]\tvalidation_0-auc:0.72913\tvalidation_1-auc:0.642149\n",
            "[54]\tvalidation_0-auc:0.729584\tvalidation_1-auc:0.642429\n",
            "[55]\tvalidation_0-auc:0.730222\tvalidation_1-auc:0.642214\n",
            "[56]\tvalidation_0-auc:0.729914\tvalidation_1-auc:0.642505\n",
            "[57]\tvalidation_0-auc:0.730379\tvalidation_1-auc:0.642261\n",
            "[58]\tvalidation_0-auc:0.730092\tvalidation_1-auc:0.642573\n",
            "[59]\tvalidation_0-auc:0.730862\tvalidation_1-auc:0.642681\n",
            "[60]\tvalidation_0-auc:0.730972\tvalidation_1-auc:0.642611\n",
            "[61]\tvalidation_0-auc:0.731814\tvalidation_1-auc:0.64265\n",
            "[62]\tvalidation_0-auc:0.731938\tvalidation_1-auc:0.642787\n",
            "[63]\tvalidation_0-auc:0.732112\tvalidation_1-auc:0.642721\n",
            "[64]\tvalidation_0-auc:0.733032\tvalidation_1-auc:0.642478\n",
            "[65]\tvalidation_0-auc:0.732864\tvalidation_1-auc:0.642155\n",
            "[66]\tvalidation_0-auc:0.73343\tvalidation_1-auc:0.642185\n",
            "[67]\tvalidation_0-auc:0.733374\tvalidation_1-auc:0.641901\n",
            "[68]\tvalidation_0-auc:0.734444\tvalidation_1-auc:0.641894\n",
            "[69]\tvalidation_0-auc:0.734402\tvalidation_1-auc:0.641808\n",
            "[70]\tvalidation_0-auc:0.734574\tvalidation_1-auc:0.641745\n",
            "[71]\tvalidation_0-auc:0.734535\tvalidation_1-auc:0.641777\n",
            "[72]\tvalidation_0-auc:0.734578\tvalidation_1-auc:0.642027\n",
            "[73]\tvalidation_0-auc:0.734598\tvalidation_1-auc:0.642313\n",
            "[74]\tvalidation_0-auc:0.734987\tvalidation_1-auc:0.642186\n",
            "[75]\tvalidation_0-auc:0.734429\tvalidation_1-auc:0.64242\n",
            "[76]\tvalidation_0-auc:0.735705\tvalidation_1-auc:0.642386\n",
            "[77]\tvalidation_0-auc:0.736079\tvalidation_1-auc:0.642424\n",
            "[78]\tvalidation_0-auc:0.735932\tvalidation_1-auc:0.642328\n",
            "[79]\tvalidation_0-auc:0.736397\tvalidation_1-auc:0.642326\n",
            "[80]\tvalidation_0-auc:0.736726\tvalidation_1-auc:0.64208\n",
            "[81]\tvalidation_0-auc:0.737586\tvalidation_1-auc:0.641966\n",
            "[82]\tvalidation_0-auc:0.73729\tvalidation_1-auc:0.64208\n",
            "[83]\tvalidation_0-auc:0.737958\tvalidation_1-auc:0.641943\n",
            "[84]\tvalidation_0-auc:0.737856\tvalidation_1-auc:0.641862\n",
            "[85]\tvalidation_0-auc:0.738337\tvalidation_1-auc:0.641901\n",
            "[86]\tvalidation_0-auc:0.738108\tvalidation_1-auc:0.642138\n",
            "[87]\tvalidation_0-auc:0.738416\tvalidation_1-auc:0.642183\n",
            "[88]\tvalidation_0-auc:0.738268\tvalidation_1-auc:0.642226\n",
            "[89]\tvalidation_0-auc:0.738828\tvalidation_1-auc:0.64224\n",
            "[90]\tvalidation_0-auc:0.739442\tvalidation_1-auc:0.64216\n",
            "[91]\tvalidation_0-auc:0.739816\tvalidation_1-auc:0.642134\n",
            "[92]\tvalidation_0-auc:0.739777\tvalidation_1-auc:0.642177\n",
            "[93]\tvalidation_0-auc:0.739788\tvalidation_1-auc:0.642279\n",
            "[94]\tvalidation_0-auc:0.740908\tvalidation_1-auc:0.642331\n",
            "[95]\tvalidation_0-auc:0.740949\tvalidation_1-auc:0.642301\n",
            "[96]\tvalidation_0-auc:0.741394\tvalidation_1-auc:0.642245\n",
            "[97]\tvalidation_0-auc:0.741705\tvalidation_1-auc:0.642076\n",
            "[98]\tvalidation_0-auc:0.741678\tvalidation_1-auc:0.642003\n",
            "[99]\tvalidation_0-auc:0.741776\tvalidation_1-auc:0.642004\n",
            "[100]\tvalidation_0-auc:0.741896\tvalidation_1-auc:0.642141\n",
            "[101]\tvalidation_0-auc:0.7425\tvalidation_1-auc:0.64198\n",
            "[102]\tvalidation_0-auc:0.742501\tvalidation_1-auc:0.642065\n",
            "[103]\tvalidation_0-auc:0.742313\tvalidation_1-auc:0.642169\n",
            "[104]\tvalidation_0-auc:0.742325\tvalidation_1-auc:0.642275\n",
            "[105]\tvalidation_0-auc:0.742384\tvalidation_1-auc:0.642366\n",
            "[106]\tvalidation_0-auc:0.742625\tvalidation_1-auc:0.642242\n",
            "[107]\tvalidation_0-auc:0.742738\tvalidation_1-auc:0.642245\n",
            "[108]\tvalidation_0-auc:0.742656\tvalidation_1-auc:0.642399\n",
            "[109]\tvalidation_0-auc:0.742631\tvalidation_1-auc:0.642492\n",
            "[110]\tvalidation_0-auc:0.742813\tvalidation_1-auc:0.642486\n",
            "[111]\tvalidation_0-auc:0.742938\tvalidation_1-auc:0.642728\n",
            "[112]\tvalidation_0-auc:0.742679\tvalidation_1-auc:0.642706\n",
            "[113]\tvalidation_0-auc:0.743123\tvalidation_1-auc:0.642663\n",
            "[114]\tvalidation_0-auc:0.743011\tvalidation_1-auc:0.642575\n",
            "[115]\tvalidation_0-auc:0.743345\tvalidation_1-auc:0.642692\n",
            "[116]\tvalidation_0-auc:0.743052\tvalidation_1-auc:0.642815\n",
            "[117]\tvalidation_0-auc:0.743398\tvalidation_1-auc:0.642893\n",
            "[118]\tvalidation_0-auc:0.743125\tvalidation_1-auc:0.643008\n",
            "[119]\tvalidation_0-auc:0.743066\tvalidation_1-auc:0.643203\n",
            "[120]\tvalidation_0-auc:0.743177\tvalidation_1-auc:0.64323\n",
            "[121]\tvalidation_0-auc:0.743626\tvalidation_1-auc:0.643468\n",
            "[122]\tvalidation_0-auc:0.743833\tvalidation_1-auc:0.643598\n",
            "[123]\tvalidation_0-auc:0.744216\tvalidation_1-auc:0.643535\n",
            "[124]\tvalidation_0-auc:0.744271\tvalidation_1-auc:0.643462\n",
            "[125]\tvalidation_0-auc:0.744356\tvalidation_1-auc:0.64339\n",
            "[126]\tvalidation_0-auc:0.744687\tvalidation_1-auc:0.643397\n",
            "[127]\tvalidation_0-auc:0.744858\tvalidation_1-auc:0.643402\n",
            "[128]\tvalidation_0-auc:0.745444\tvalidation_1-auc:0.643363\n",
            "[129]\tvalidation_0-auc:0.745635\tvalidation_1-auc:0.64331\n",
            "[130]\tvalidation_0-auc:0.745985\tvalidation_1-auc:0.643331\n",
            "[131]\tvalidation_0-auc:0.746248\tvalidation_1-auc:0.64331\n",
            "[132]\tvalidation_0-auc:0.746166\tvalidation_1-auc:0.643384\n",
            "[133]\tvalidation_0-auc:0.746015\tvalidation_1-auc:0.643362\n",
            "[134]\tvalidation_0-auc:0.746059\tvalidation_1-auc:0.643419\n",
            "[135]\tvalidation_0-auc:0.746389\tvalidation_1-auc:0.643401\n",
            "[136]\tvalidation_0-auc:0.746913\tvalidation_1-auc:0.643416\n",
            "[137]\tvalidation_0-auc:0.747303\tvalidation_1-auc:0.643444\n",
            "[138]\tvalidation_0-auc:0.747465\tvalidation_1-auc:0.643418\n",
            "[139]\tvalidation_0-auc:0.748178\tvalidation_1-auc:0.643355\n",
            "[140]\tvalidation_0-auc:0.74802\tvalidation_1-auc:0.643457\n",
            "[141]\tvalidation_0-auc:0.74794\tvalidation_1-auc:0.643325\n",
            "[142]\tvalidation_0-auc:0.748026\tvalidation_1-auc:0.643289\n",
            "[143]\tvalidation_0-auc:0.748327\tvalidation_1-auc:0.643112\n",
            "[144]\tvalidation_0-auc:0.749251\tvalidation_1-auc:0.643198\n",
            "[145]\tvalidation_0-auc:0.74931\tvalidation_1-auc:0.643085\n",
            "[146]\tvalidation_0-auc:0.749379\tvalidation_1-auc:0.642969\n",
            "[147]\tvalidation_0-auc:0.750095\tvalidation_1-auc:0.643135\n",
            "[148]\tvalidation_0-auc:0.750562\tvalidation_1-auc:0.643088\n",
            "[149]\tvalidation_0-auc:0.751014\tvalidation_1-auc:0.643046\n",
            "[150]\tvalidation_0-auc:0.751545\tvalidation_1-auc:0.642986\n",
            "[151]\tvalidation_0-auc:0.75132\tvalidation_1-auc:0.642983\n",
            "[152]\tvalidation_0-auc:0.751473\tvalidation_1-auc:0.64286\n",
            "[153]\tvalidation_0-auc:0.751856\tvalidation_1-auc:0.642816\n",
            "[154]\tvalidation_0-auc:0.751907\tvalidation_1-auc:0.642689\n",
            "[155]\tvalidation_0-auc:0.751955\tvalidation_1-auc:0.642984\n",
            "[156]\tvalidation_0-auc:0.75182\tvalidation_1-auc:0.64297\n",
            "[157]\tvalidation_0-auc:0.752251\tvalidation_1-auc:0.642914\n",
            "[158]\tvalidation_0-auc:0.75231\tvalidation_1-auc:0.642901\n",
            "[159]\tvalidation_0-auc:0.75309\tvalidation_1-auc:0.642946\n",
            "[160]\tvalidation_0-auc:0.753498\tvalidation_1-auc:0.642786\n",
            "[161]\tvalidation_0-auc:0.75411\tvalidation_1-auc:0.642727\n",
            "[162]\tvalidation_0-auc:0.754066\tvalidation_1-auc:0.64278\n",
            "[163]\tvalidation_0-auc:0.754345\tvalidation_1-auc:0.642624\n",
            "[164]\tvalidation_0-auc:0.754311\tvalidation_1-auc:0.64282\n",
            "[165]\tvalidation_0-auc:0.75447\tvalidation_1-auc:0.642795\n",
            "[166]\tvalidation_0-auc:0.754673\tvalidation_1-auc:0.642881\n",
            "[167]\tvalidation_0-auc:0.75463\tvalidation_1-auc:0.642849\n",
            "[168]\tvalidation_0-auc:0.754981\tvalidation_1-auc:0.642798\n",
            "[169]\tvalidation_0-auc:0.754988\tvalidation_1-auc:0.642889\n",
            "[170]\tvalidation_0-auc:0.75572\tvalidation_1-auc:0.642832\n",
            "[171]\tvalidation_0-auc:0.756061\tvalidation_1-auc:0.642863\n",
            "[172]\tvalidation_0-auc:0.755907\tvalidation_1-auc:0.642924\n",
            "[173]\tvalidation_0-auc:0.756356\tvalidation_1-auc:0.642918\n",
            "[174]\tvalidation_0-auc:0.756713\tvalidation_1-auc:0.642921\n",
            "[175]\tvalidation_0-auc:0.756768\tvalidation_1-auc:0.642895\n",
            "[176]\tvalidation_0-auc:0.756743\tvalidation_1-auc:0.642818\n",
            "[177]\tvalidation_0-auc:0.756919\tvalidation_1-auc:0.642665\n",
            "[178]\tvalidation_0-auc:0.756989\tvalidation_1-auc:0.642683\n",
            "[179]\tvalidation_0-auc:0.75735\tvalidation_1-auc:0.642583\n",
            "[180]\tvalidation_0-auc:0.757632\tvalidation_1-auc:0.642533\n",
            "[181]\tvalidation_0-auc:0.7578\tvalidation_1-auc:0.642459\n",
            "[182]\tvalidation_0-auc:0.757968\tvalidation_1-auc:0.642435\n",
            "[183]\tvalidation_0-auc:0.757807\tvalidation_1-auc:0.642512\n",
            "[184]\tvalidation_0-auc:0.758196\tvalidation_1-auc:0.642364\n",
            "[185]\tvalidation_0-auc:0.758387\tvalidation_1-auc:0.642484\n",
            "[186]\tvalidation_0-auc:0.758759\tvalidation_1-auc:0.642475\n",
            "[187]\tvalidation_0-auc:0.758778\tvalidation_1-auc:0.642574\n",
            "[188]\tvalidation_0-auc:0.75877\tvalidation_1-auc:0.642557\n",
            "[189]\tvalidation_0-auc:0.758993\tvalidation_1-auc:0.642621\n",
            "[190]\tvalidation_0-auc:0.75905\tvalidation_1-auc:0.642608\n",
            "[191]\tvalidation_0-auc:0.759127\tvalidation_1-auc:0.642646\n",
            "[192]\tvalidation_0-auc:0.759273\tvalidation_1-auc:0.642629\n",
            "[193]\tvalidation_0-auc:0.759476\tvalidation_1-auc:0.642713\n",
            "[194]\tvalidation_0-auc:0.759699\tvalidation_1-auc:0.642731\n",
            "[195]\tvalidation_0-auc:0.759811\tvalidation_1-auc:0.642741\n",
            "[196]\tvalidation_0-auc:0.760274\tvalidation_1-auc:0.64262\n",
            "[197]\tvalidation_0-auc:0.760407\tvalidation_1-auc:0.642563\n",
            "[198]\tvalidation_0-auc:0.760648\tvalidation_1-auc:0.642513\n",
            "[199]\tvalidation_0-auc:0.760899\tvalidation_1-auc:0.642575\n"
          ],
          "name": "stdout"
        }
      ]
    },
    {
      "cell_type": "code",
      "metadata": {
        "id": "3gh3Lp5aUxlk"
      },
      "source": [
        "param_test = {'booster': ['dart'],\n",
        "         'max_depth': [4,5,6,7,8], 'learning_rate': [0.01],\n",
        "         'objective': ['binary:logistic'],\n",
        "         'subsample':[i/10.0 for i in range(5,10)],\n",
        "         'colsample_bytree':[i/10.0 for i in range(5,10)],\n",
        "         'min_child_weight':[2,3,4,5,6,8],\n",
        "         'reg_alpha':[1e-2, 0.1],\n",
        "         'sample_type': ['uniform'],\n",
        "         'normalize_type': ['tree'],\n",
        "         'rate_drop': [0.1],\n",
        "         'scale_pos_weight':[38673/12209],\n",
        "         'eval_metric':['auc'],\n",
        "         \"silent\": [1],\n",
        "         \"early.stop.round\":[5],\n",
        "         'skip_drop': [0.5]}\n"
      ],
      "execution_count": 118,
      "outputs": []
    },
    {
      "cell_type": "code",
      "metadata": {
        "colab": {
          "base_uri": "https://localhost:8080/"
        },
        "id": "1eS5XcE3TPSU",
        "outputId": "519c2a39-c878-4e9c-9efb-af563afa0208"
      },
      "source": [
        "from sklearn.model_selection import GridSearchCV\n",
        "gsearch = GridSearchCV(estimator= xgb.XGBClassifier(n_estimators=20), \n",
        "                          param_grid= param_test,\n",
        "                          cv=2, \n",
        "                          n_jobs=-1, \n",
        "                          scoring='roc_auc', \n",
        "                          verbose=2)\n",
        "\n",
        "gsearch.fit(X_train,y_train)\n",
        "\n",
        "print('Best Grid Search Parameters :',gsearch.best_params_)\n",
        "print('Best Grid Search Score : ',gsearch.best_score_)"
      ],
      "execution_count": 119,
      "outputs": [
        {
          "output_type": "stream",
          "text": [
            "Fitting 2 folds for each of 1500 candidates, totalling 3000 fits\n"
          ],
          "name": "stdout"
        },
        {
          "output_type": "stream",
          "text": [
            "[Parallel(n_jobs=-1)]: Using backend LokyBackend with 2 concurrent workers.\n",
            "[Parallel(n_jobs=-1)]: Done  37 tasks      | elapsed:   10.9s\n",
            "[Parallel(n_jobs=-1)]: Done 158 tasks      | elapsed:   44.7s\n",
            "[Parallel(n_jobs=-1)]: Done 361 tasks      | elapsed:  1.9min\n",
            "[Parallel(n_jobs=-1)]: Done 644 tasks      | elapsed:  3.8min\n",
            "[Parallel(n_jobs=-1)]: Done 1009 tasks      | elapsed:  5.9min\n",
            "[Parallel(n_jobs=-1)]: Done 1454 tasks      | elapsed:  8.7min\n",
            "[Parallel(n_jobs=-1)]: Done 1981 tasks      | elapsed: 12.3min\n",
            "[Parallel(n_jobs=-1)]: Done 2588 tasks      | elapsed: 16.5min\n",
            "[Parallel(n_jobs=-1)]: Done 3000 out of 3000 | elapsed: 19.8min finished\n"
          ],
          "name": "stderr"
        },
        {
          "output_type": "stream",
          "text": [
            "Best Grid Search Parameters : {'booster': 'dart', 'colsample_bytree': 0.9, 'early.stop.round': 5, 'eval_metric': 'auc', 'learning_rate': 0.01, 'max_depth': 8, 'min_child_weight': 8, 'normalize_type': 'tree', 'objective': 'binary:logistic', 'rate_drop': 0.1, 'reg_alpha': 0.01, 'sample_type': 'uniform', 'scale_pos_weight': 3.1675812924891473, 'silent': 1, 'skip_drop': 0.5, 'subsample': 0.6}\n",
            "Best Grid Search Score :  0.6357043959007125\n"
          ],
          "name": "stdout"
        }
      ]
    },
    {
      "cell_type": "code",
      "metadata": {
        "colab": {
          "base_uri": "https://localhost:8080/"
        },
        "id": "wyI8vmP3mZFS",
        "outputId": "f570f11b-5d60-444f-ec8c-3a822e2bee38"
      },
      "source": [
        "\n",
        "best_params = {'booster': 'dart',\n",
        "                'n_estimator':500,\n",
        "                         'colsample_bytree': 0.9, \n",
        "                         'early.stop.round': 5,\n",
        "                         'eval_metric': 'auc',\n",
        "                         'learning_rate': 0.01,\n",
        "                         'max_depth': 8,\n",
        "                         'min_child_weight': 8,\n",
        "                         'normalize_type': 'tree', \n",
        "                         'objective': 'binary:logistic',\n",
        "                         'rate_drop': 0.1,\n",
        "                         'reg_alpha': 0.01,\n",
        "                         'sample_type': 'uniform',\n",
        "                         'scale_pos_weight': 1,\n",
        "                         'silent': 1,\n",
        "                         'skip_drop': 0.5,\n",
        "                         'subsample': 0.5}\n",
        "clf = xgb.XGBClassifier(**best_params)\n",
        "\n",
        "clf.fit(X_train, y_train,\n",
        "        eval_set=[(X_train, y_train), (X_test, y_test)],\n",
        "        eval_metric='auc',\n",
        "        verbose=True)\n",
        "\n",
        "evals_result = clf.evals_result()"
      ],
      "execution_count": 130,
      "outputs": [
        {
          "output_type": "stream",
          "text": [
            "[0]\tvalidation_0-auc:0.569686\tvalidation_1-auc:0.57392\n",
            "[1]\tvalidation_0-auc:0.569686\tvalidation_1-auc:0.581901\n",
            "[2]\tvalidation_0-auc:0.607484\tvalidation_1-auc:0.599374\n",
            "[3]\tvalidation_0-auc:0.605229\tvalidation_1-auc:0.603708\n",
            "[4]\tvalidation_0-auc:0.615471\tvalidation_1-auc:0.614703\n",
            "[5]\tvalidation_0-auc:0.627322\tvalidation_1-auc:0.617331\n",
            "[6]\tvalidation_0-auc:0.629931\tvalidation_1-auc:0.62022\n",
            "[7]\tvalidation_0-auc:0.630488\tvalidation_1-auc:0.616996\n",
            "[8]\tvalidation_0-auc:0.631045\tvalidation_1-auc:0.618108\n",
            "[9]\tvalidation_0-auc:0.625712\tvalidation_1-auc:0.616168\n",
            "[10]\tvalidation_0-auc:0.630406\tvalidation_1-auc:0.616064\n",
            "[11]\tvalidation_0-auc:0.633562\tvalidation_1-auc:0.617301\n",
            "[12]\tvalidation_0-auc:0.634277\tvalidation_1-auc:0.617771\n",
            "[13]\tvalidation_0-auc:0.635432\tvalidation_1-auc:0.617109\n",
            "[14]\tvalidation_0-auc:0.636255\tvalidation_1-auc:0.617774\n",
            "[15]\tvalidation_0-auc:0.637566\tvalidation_1-auc:0.6193\n",
            "[16]\tvalidation_0-auc:0.635615\tvalidation_1-auc:0.619117\n",
            "[17]\tvalidation_0-auc:0.639437\tvalidation_1-auc:0.62147\n",
            "[18]\tvalidation_0-auc:0.638518\tvalidation_1-auc:0.620819\n",
            "[19]\tvalidation_0-auc:0.639132\tvalidation_1-auc:0.622963\n",
            "[20]\tvalidation_0-auc:0.640117\tvalidation_1-auc:0.623834\n",
            "[21]\tvalidation_0-auc:0.640456\tvalidation_1-auc:0.624894\n",
            "[22]\tvalidation_0-auc:0.641097\tvalidation_1-auc:0.624288\n",
            "[23]\tvalidation_0-auc:0.641177\tvalidation_1-auc:0.624777\n",
            "[24]\tvalidation_0-auc:0.642071\tvalidation_1-auc:0.62666\n",
            "[25]\tvalidation_0-auc:0.641823\tvalidation_1-auc:0.626189\n",
            "[26]\tvalidation_0-auc:0.64056\tvalidation_1-auc:0.626455\n",
            "[27]\tvalidation_0-auc:0.642821\tvalidation_1-auc:0.625765\n",
            "[28]\tvalidation_0-auc:0.642632\tvalidation_1-auc:0.628005\n",
            "[29]\tvalidation_0-auc:0.643743\tvalidation_1-auc:0.62988\n",
            "[30]\tvalidation_0-auc:0.644957\tvalidation_1-auc:0.628647\n",
            "[31]\tvalidation_0-auc:0.646395\tvalidation_1-auc:0.630406\n",
            "[32]\tvalidation_0-auc:0.646405\tvalidation_1-auc:0.63076\n",
            "[33]\tvalidation_0-auc:0.645329\tvalidation_1-auc:0.630583\n",
            "[34]\tvalidation_0-auc:0.647458\tvalidation_1-auc:0.631481\n",
            "[35]\tvalidation_0-auc:0.647288\tvalidation_1-auc:0.629414\n",
            "[36]\tvalidation_0-auc:0.647438\tvalidation_1-auc:0.626975\n",
            "[37]\tvalidation_0-auc:0.647236\tvalidation_1-auc:0.630673\n",
            "[38]\tvalidation_0-auc:0.646816\tvalidation_1-auc:0.630718\n",
            "[39]\tvalidation_0-auc:0.646566\tvalidation_1-auc:0.630832\n",
            "[40]\tvalidation_0-auc:0.647383\tvalidation_1-auc:0.629162\n",
            "[41]\tvalidation_0-auc:0.647399\tvalidation_1-auc:0.630287\n",
            "[42]\tvalidation_0-auc:0.647521\tvalidation_1-auc:0.630069\n",
            "[43]\tvalidation_0-auc:0.647531\tvalidation_1-auc:0.629951\n",
            "[44]\tvalidation_0-auc:0.647437\tvalidation_1-auc:0.629788\n",
            "[45]\tvalidation_0-auc:0.647515\tvalidation_1-auc:0.630088\n",
            "[46]\tvalidation_0-auc:0.647565\tvalidation_1-auc:0.628749\n",
            "[47]\tvalidation_0-auc:0.645419\tvalidation_1-auc:0.628574\n",
            "[48]\tvalidation_0-auc:0.648024\tvalidation_1-auc:0.630058\n",
            "[49]\tvalidation_0-auc:0.64747\tvalidation_1-auc:0.630282\n",
            "[50]\tvalidation_0-auc:0.64823\tvalidation_1-auc:0.630354\n",
            "[51]\tvalidation_0-auc:0.648108\tvalidation_1-auc:0.62912\n",
            "[52]\tvalidation_0-auc:0.648269\tvalidation_1-auc:0.630256\n",
            "[53]\tvalidation_0-auc:0.64716\tvalidation_1-auc:0.630737\n",
            "[54]\tvalidation_0-auc:0.648949\tvalidation_1-auc:0.630315\n",
            "[55]\tvalidation_0-auc:0.647297\tvalidation_1-auc:0.630156\n",
            "[56]\tvalidation_0-auc:0.650025\tvalidation_1-auc:0.630717\n",
            "[57]\tvalidation_0-auc:0.650257\tvalidation_1-auc:0.630512\n",
            "[58]\tvalidation_0-auc:0.650627\tvalidation_1-auc:0.631134\n",
            "[59]\tvalidation_0-auc:0.649966\tvalidation_1-auc:0.631181\n",
            "[60]\tvalidation_0-auc:0.6506\tvalidation_1-auc:0.63084\n",
            "[61]\tvalidation_0-auc:0.650561\tvalidation_1-auc:0.631053\n",
            "[62]\tvalidation_0-auc:0.649863\tvalidation_1-auc:0.630999\n",
            "[63]\tvalidation_0-auc:0.650739\tvalidation_1-auc:0.631466\n",
            "[64]\tvalidation_0-auc:0.650699\tvalidation_1-auc:0.630965\n",
            "[65]\tvalidation_0-auc:0.650963\tvalidation_1-auc:0.631031\n",
            "[66]\tvalidation_0-auc:0.650789\tvalidation_1-auc:0.630882\n",
            "[67]\tvalidation_0-auc:0.649135\tvalidation_1-auc:0.630647\n",
            "[68]\tvalidation_0-auc:0.648724\tvalidation_1-auc:0.629824\n",
            "[69]\tvalidation_0-auc:0.65267\tvalidation_1-auc:0.630544\n",
            "[70]\tvalidation_0-auc:0.651807\tvalidation_1-auc:0.630949\n",
            "[71]\tvalidation_0-auc:0.652268\tvalidation_1-auc:0.631783\n",
            "[72]\tvalidation_0-auc:0.652276\tvalidation_1-auc:0.631707\n",
            "[73]\tvalidation_0-auc:0.652271\tvalidation_1-auc:0.63108\n",
            "[74]\tvalidation_0-auc:0.65218\tvalidation_1-auc:0.631988\n",
            "[75]\tvalidation_0-auc:0.652415\tvalidation_1-auc:0.63313\n",
            "[76]\tvalidation_0-auc:0.652644\tvalidation_1-auc:0.632552\n",
            "[77]\tvalidation_0-auc:0.651847\tvalidation_1-auc:0.631957\n",
            "[78]\tvalidation_0-auc:0.651317\tvalidation_1-auc:0.632333\n",
            "[79]\tvalidation_0-auc:0.652556\tvalidation_1-auc:0.631808\n",
            "[80]\tvalidation_0-auc:0.652327\tvalidation_1-auc:0.631741\n",
            "[81]\tvalidation_0-auc:0.652748\tvalidation_1-auc:0.631528\n",
            "[82]\tvalidation_0-auc:0.652741\tvalidation_1-auc:0.631752\n",
            "[83]\tvalidation_0-auc:0.652184\tvalidation_1-auc:0.63147\n",
            "[84]\tvalidation_0-auc:0.65188\tvalidation_1-auc:0.631459\n",
            "[85]\tvalidation_0-auc:0.652423\tvalidation_1-auc:0.631454\n",
            "[86]\tvalidation_0-auc:0.653336\tvalidation_1-auc:0.631507\n",
            "[87]\tvalidation_0-auc:0.652427\tvalidation_1-auc:0.631431\n",
            "[88]\tvalidation_0-auc:0.652937\tvalidation_1-auc:0.63251\n",
            "[89]\tvalidation_0-auc:0.652266\tvalidation_1-auc:0.631606\n",
            "[90]\tvalidation_0-auc:0.651868\tvalidation_1-auc:0.631734\n",
            "[91]\tvalidation_0-auc:0.652347\tvalidation_1-auc:0.63171\n",
            "[92]\tvalidation_0-auc:0.652596\tvalidation_1-auc:0.631547\n",
            "[93]\tvalidation_0-auc:0.652677\tvalidation_1-auc:0.631363\n",
            "[94]\tvalidation_0-auc:0.653013\tvalidation_1-auc:0.631675\n",
            "[95]\tvalidation_0-auc:0.653003\tvalidation_1-auc:0.63105\n",
            "[96]\tvalidation_0-auc:0.653047\tvalidation_1-auc:0.631483\n",
            "[97]\tvalidation_0-auc:0.653415\tvalidation_1-auc:0.632065\n",
            "[98]\tvalidation_0-auc:0.653127\tvalidation_1-auc:0.631164\n",
            "[99]\tvalidation_0-auc:0.653242\tvalidation_1-auc:0.631196\n"
          ],
          "name": "stdout"
        }
      ]
    },
    {
      "cell_type": "code",
      "metadata": {
        "colab": {
          "base_uri": "https://localhost:8080/",
          "height": 312
        },
        "id": "jvYfXvRqQHlA",
        "outputId": "ea169637-53a1-4cb7-dd8e-2a0b06f7f795"
      },
      "source": [
        "xgb.plot_importance(bst)"
      ],
      "execution_count": 123,
      "outputs": [
        {
          "output_type": "execute_result",
          "data": {
            "text/plain": [
              "<matplotlib.axes._subplots.AxesSubplot at 0x7f93c1e82dd0>"
            ]
          },
          "metadata": {
            "tags": []
          },
          "execution_count": 123
        },
        {
          "output_type": "display_data",
          "data": {
            "image/png": "[encoded data removed]",
            "text/plain": [
              "<Figure size 432x288 with 1 Axes>"
            ]
          },
          "metadata": {
            "tags": [],
            "needs_background": "light"
          }
        }
      ]
    },
    {
      "cell_type": "markdown",
      "metadata": {
        "id": "-Z4BDmorCX_i"
      },
      "source": [
        "# prediction for test set\n"
      ]
    },
    {
      "cell_type": "code",
      "metadata": {
        "colab": {
          "base_uri": "https://localhost:8080/"
        },
        "id": "LAOrXSA8yT3H",
        "outputId": "c6dafd22-cb3c-468e-9662-ccd0afc984eb"
      },
      "source": [
        "y_pred =  clf.predict_proba(test_data)\n",
        "y_pred =  y_pred[:,1]\n",
        "y_pred"
      ],
      "execution_count": 124,
      "outputs": [
        {
          "output_type": "execute_result",
          "data": {
            "text/plain": [
              "array([0.556368  , 0.50158215, 0.5204244 , ..., 0.3002732 , 0.52490205,\n",
              "       0.4242461 ], dtype=float32)"
            ]
          },
          "metadata": {
            "tags": []
          },
          "execution_count": 124
        }
      ]
    },
    {
      "cell_type": "code",
      "metadata": {
        "id": "SLjbg1raDl5f"
      },
      "source": [
        "sol = pd.DataFrame()\n",
        "sol['ID'] = test['ID']\n",
        "sol['Response'] = y_pred"
      ],
      "execution_count": 125,
      "outputs": []
    },
    {
      "cell_type": "code",
      "metadata": {
        "colab": {
          "base_uri": "https://localhost:8080/",
          "height": 204
        },
        "id": "0KKJw9JvEKOy",
        "outputId": "a223d885-b281-4afe-fa4f-23583011923f"
      },
      "source": [
        "sol.head()"
      ],
      "execution_count": 54,
      "outputs": [
        {
          "output_type": "execute_result",
          "data": {
            "text/html": [
              "<div>\n",
              "<style scoped>\n",
              "    .dataframe tbody tr th:only-of-type {\n",
              "        vertical-align: middle;\n",
              "    }\n",
              "\n",
              "    .dataframe tbody tr th {\n",
              "        vertical-align: top;\n",
              "    }\n",
              "\n",
              "    .dataframe thead th {\n",
              "        text-align: right;\n",
              "    }\n",
              "</style>\n",
              "<table border=\"1\" class=\"dataframe\">\n",
              "  <thead>\n",
              "    <tr style=\"text-align: right;\">\n",
              "      <th></th>\n",
              "      <th>ID</th>\n",
              "      <th>Response</th>\n",
              "    </tr>\n",
              "  </thead>\n",
              "  <tbody>\n",
              "    <tr>\n",
              "      <th>0</th>\n",
              "      <td>50883</td>\n",
              "      <td>0.506868</td>\n",
              "    </tr>\n",
              "    <tr>\n",
              "      <th>1</th>\n",
              "      <td>50884</td>\n",
              "      <td>0.507267</td>\n",
              "    </tr>\n",
              "    <tr>\n",
              "      <th>2</th>\n",
              "      <td>50885</td>\n",
              "      <td>0.507267</td>\n",
              "    </tr>\n",
              "    <tr>\n",
              "      <th>3</th>\n",
              "      <td>50886</td>\n",
              "      <td>0.507267</td>\n",
              "    </tr>\n",
              "    <tr>\n",
              "      <th>4</th>\n",
              "      <td>50887</td>\n",
              "      <td>0.506868</td>\n",
              "    </tr>\n",
              "  </tbody>\n",
              "</table>\n",
              "</div>"
            ],
            "text/plain": [
              "      ID  Response\n",
              "0  50883  0.506868\n",
              "1  50884  0.507267\n",
              "2  50885  0.507267\n",
              "3  50886  0.507267\n",
              "4  50887  0.506868"
            ]
          },
          "metadata": {
            "tags": []
          },
          "execution_count": 54
        }
      ]
    },
    {
      "cell_type": "code",
      "metadata": {
        "id": "xomgBFtvESln"
      },
      "source": [
        "sol.to_csv('sol.csv',index=False)"
      ],
      "execution_count": 126,
      "outputs": []
    },
    {
      "cell_type": "markdown",
      "metadata": {
        "id": "96Jg2znzBGoS"
      },
      "source": [
        "# Other Methods"
      ]
    },
    {
      "cell_type": "code",
      "metadata": {
        "colab": {
          "base_uri": "https://localhost:8080/",
          "height": 712
        },
        "id": "EyOrmmCkGfO6",
        "outputId": "20c91e0f-3aa1-45e4-9f92-d5e2ef96b3d9"
      },
      "source": [
        "from sklearn.model_selection import GridSearchCV, StratifiedKFold\n",
        "import numpy as np\n",
        "import seaborn as sns\n",
        "import matplotlib.pyplot as plt\n",
        "\n",
        "from sklearn.linear_model import LogisticRegression\n",
        "from sklearn.model_selection import train_test_split\n",
        "lr = LogisticRegression(solver='newton-cg')\n",
        "\n",
        "#Setting the range for class weights\n",
        "weights = np.linspace(0.0,0.99,200)\n",
        "\n",
        "#Creating a dictionary grid for grid search\n",
        "param_grid = {'class_weight': [{0:x, 1:1.0-x} for x in weights]}\n",
        "\n",
        "X_train, X_test, y_train, y_test = train_test_split(X, y, test_size=0.33, random_state=1)\n",
        "#Fitting grid search to the train data with 5 folds\n",
        "gridsearch = GridSearchCV(estimator= lr, \n",
        "                          param_grid= param_grid,\n",
        "                          cv=StratifiedKFold(), \n",
        "                          n_jobs=-1, \n",
        "                          scoring='roc_auc', \n",
        "                          verbose=2).fit(X_train, y_train)\n",
        "#Ploting the score for different values of weight\n",
        "sns.set_style('whitegrid')\n",
        "plt.figure(figsize=(12,8))\n",
        "weigh_data = pd.DataFrame({ 'score': gridsearch.cv_results_['mean_test_score'], 'weight': (1- weights)})\n",
        "sns.lineplot(weigh_data['weight'], weigh_data['score'])\n",
        "plt.xlabel('Weight for class 1')\n",
        "plt.ylabel('F1 score')\n",
        "plt.xticks([round(i/10,1) for i in range(0,11,1)])\n",
        "plt.title('Scoring for different class weights', fontsize=24)"
      ],
      "execution_count": null,
      "outputs": [
        {
          "output_type": "stream",
          "text": [
            "Fitting 5 folds for each of 200 candidates, totalling 1000 fits\n"
          ],
          "name": "stdout"
        },
        {
          "output_type": "stream",
          "text": [
            "[Parallel(n_jobs=-1)]: Using backend LokyBackend with 2 concurrent workers.\n",
            "[Parallel(n_jobs=-1)]: Done  37 tasks      | elapsed:    5.6s\n",
            "[Parallel(n_jobs=-1)]: Done 158 tasks      | elapsed:   21.6s\n",
            "[Parallel(n_jobs=-1)]: Done 361 tasks      | elapsed:   46.4s\n",
            "[Parallel(n_jobs=-1)]: Done 644 tasks      | elapsed:  1.4min\n",
            "[Parallel(n_jobs=-1)]: Done 1000 out of 1000 | elapsed:  2.3min finished\n",
            "/usr/local/lib/python3.7/dist-packages/seaborn/_decorators.py:43: FutureWarning: Pass the following variables as keyword args: x, y. From version 0.12, the only valid positional argument will be `data`, and passing other arguments without an explicit keyword will result in an error or misinterpretation.\n",
            "  FutureWarning\n"
          ],
          "name": "stderr"
        },
        {
          "output_type": "execute_result",
          "data": {
            "text/plain": [
              "Text(0.5, 1.0, 'Scoring for different class weights')"
            ]
          },
          "metadata": {
            "tags": []
          },
          "execution_count": 33
        },
        {
          "output_type": "display_data",
          "data": {
            "image/png": "[encoded data removed]",
            "text/plain": [
              "<Figure size 864x576 with 1 Axes>"
            ]
          },
          "metadata": {
            "tags": []
          }
        }
      ]
    },
    {
      "cell_type": "code",
      "metadata": {
        "colab": {
          "base_uri": "https://localhost:8080/"
        },
        "id": "h5aDtQQxDiJl",
        "outputId": "1508857b-7992-4d63-8beb-ad0ed2ff5560"
      },
      "source": [
        "gridsearch.best_params_"
      ],
      "execution_count": null,
      "outputs": [
        {
          "output_type": "execute_result",
          "data": {
            "text/plain": [
              "{'class_weight': {0: 0.9800502512562814, 1: 0.019949748743718576}}"
            ]
          },
          "metadata": {
            "tags": []
          },
          "execution_count": 34
        }
      ]
    },
    {
      "cell_type": "code",
      "metadata": {
        "colab": {
          "base_uri": "https://localhost:8080/"
        },
        "id": "3ZW53cVXER8_",
        "outputId": "04d2b495-e159-49be-a0b2-556826f3b9d9"
      },
      "source": [
        "#lr = LogisticRegression(solver='newton-cg', class_weight={0: 0.9800502512562814, 1: 0.019949748743718576})\n",
        "from sklearn.ensemble import RandomForestClassifier\n",
        "\n",
        "#Create a Gaussian Classifier\n",
        "lr=RandomForestClassifier(n_estimators=100,class_weight={0:3,1:1})\n",
        "\n",
        "lr.fit(X_train,y_train)\n",
        "print(lr.score(X_test,y_test))\n",
        "\n",
        "from sklearn.metrics import confusion_matrix,classification_report,roc_auc_score\n",
        "print(roc_auc_score(y_test,lr.predict(X_test)))\n",
        "print(classification_report(y_test,lr.predict(X_test)))"
      ],
      "execution_count": 89,
      "outputs": [
        {
          "output_type": "stream",
          "text": [
            "0.7028593888179228\n",
            "0.5227657610010551\n",
            "              precision    recall  f1-score   support\n",
            "\n",
            "           0       0.77      0.87      0.82      7735\n",
            "           1       0.30      0.18      0.22      2442\n",
            "\n",
            "    accuracy                           0.70     10177\n",
            "   macro avg       0.53      0.52      0.52     10177\n",
            "weighted avg       0.66      0.70      0.67     10177\n",
            "\n"
          ],
          "name": "stdout"
        }
      ]
    },
    {
      "cell_type": "code",
      "metadata": {
        "colab": {
          "base_uri": "https://localhost:8080/"
        },
        "id": "2ZQgdOwnAPBB",
        "outputId": "23742fcf-3c8e-49e0-97f1-20fb6e3fbd81"
      },
      "source": [
        "pred = lr.predict_proba(test_data)\n",
        "pred"
      ],
      "execution_count": null,
      "outputs": [
        {
          "output_type": "execute_result",
          "data": {
            "text/plain": [
              "array([[0.17, 0.83],\n",
              "       [0.9 , 0.1 ],\n",
              "       [0.89, 0.11],\n",
              "       ...,\n",
              "       [0.98, 0.02],\n",
              "       [0.43, 0.57],\n",
              "       [0.97, 0.03]])"
            ]
          },
          "metadata": {
            "tags": []
          },
          "execution_count": 199
        }
      ]
    },
    {
      "cell_type": "code",
      "metadata": {
        "id": "v_8h3lsc9L7E"
      },
      "source": [
        "y_pred = lr.predict(test_data.values)"
      ],
      "execution_count": null,
      "outputs": []
    },
    {
      "cell_type": "code",
      "metadata": {
        "colab": {
          "base_uri": "https://localhost:8080/"
        },
        "id": "pBV5niV69Spr",
        "outputId": "a45afcf6-3ef5-44a3-f7b7-65278e6f96d9"
      },
      "source": [
        "y_pred"
      ],
      "execution_count": null,
      "outputs": [
        {
          "output_type": "execute_result",
          "data": {
            "text/plain": [
              "array([1, 0, 0, ..., 0, 1, 0], dtype=int64)"
            ]
          },
          "metadata": {
            "tags": []
          },
          "execution_count": 99
        }
      ]
    },
    {
      "cell_type": "code",
      "metadata": {
        "id": "CvqC8c4l4DVz"
      },
      "source": [
        "rfc =RandomForestClassifier(n_estimators=100)\n",
        "from sklearn.model_selection import GridSearchCV,StratifiedKFold\n",
        "param_grid = { \n",
        "    'n_estimators': [200, 100],\n",
        "    'max_features': ['auto', 'sqrt', 'log2'],\n",
        "    'max_depth' : [4,5,6,7,8],\n",
        "    'criterion' :['gini', 'entropy']\n",
        "}\n",
        "CV_rfc = GridSearchCV(estimator= lr, \n",
        "                          param_grid= param_grid,\n",
        "                          cv=StratifiedKFold(), \n",
        "                          n_jobs=-1, \n",
        "                          scoring='roc_auc', \n",
        "                          verbose=2).fit(X_train, y_train)\n",
        "CV_rfc.best_params_"
      ],
      "execution_count": null,
      "outputs": []
    },
    {
      "cell_type": "code",
      "metadata": {
        "id": "IikjVJ4e291Z"
      },
      "source": [
        "#Random Forest\n"
      ],
      "execution_count": null,
      "outputs": []
    },
    {
      "cell_type": "markdown",
      "metadata": {
        "id": "iGyL4lCGGgE3"
      },
      "source": [
        "# FastAi"
      ]
    },
    {
      "cell_type": "code",
      "metadata": {
        "colab": {
          "base_uri": "https://localhost:8080/"
        },
        "id": "Qlpr45SGGi2C",
        "outputId": "9edd9b7f-338e-458c-df28-3c99374c84ac"
      },
      "source": [
        "from fastai import *\n",
        "\n",
        "train_fastai = pd.read_csv(\"/content/gdrive/MyDrive/Analytics_vidhya/train_Df64byy.csv\")\n",
        "test_fastai = pd.read_csv(\"/content/gdrive/MyDrive/Analytics_vidhya/test_YCcRUnU.csv\")\n",
        "test_fastai.isnull().sum()"
      ],
      "execution_count": null,
      "outputs": [
        {
          "output_type": "execute_result",
          "data": {
            "text/plain": [
              "ID                            0\n",
              "City_Code                     0\n",
              "Region_Code                   0\n",
              "Accomodation_Type             0\n",
              "Reco_Insurance_Type           0\n",
              "Upper_Age                     0\n",
              "Lower_Age                     0\n",
              "Is_Spouse                     0\n",
              "Health Indicator           5027\n",
              "Holding_Policy_Duration    8603\n",
              "Holding_Policy_Type        8603\n",
              "Reco_Policy_Cat               0\n",
              "Reco_Policy_Premium           0\n",
              "dtype: int64"
            ]
          },
          "metadata": {
            "tags": []
          },
          "execution_count": 37
        }
      ]
    },
    {
      "cell_type": "code",
      "metadata": {
        "id": "LId6eonTG3rS"
      },
      "source": [
        "from fastai.tabular import *\n",
        "dep_var = 'Response'\n",
        "cat_names = train_fastai.select_dtypes(exclude=['int', 'float']).columns\n",
        "#cat_names = [ 'Gender', 'Driving_License', 'Previously_Insured', 'Vehicle_Damage','Vehicle_Age','id']\n",
        "\n",
        "cont_names = train_fastai.select_dtypes([np.number]).columns\n",
        "#cont_names = [ 'Age', 'Region_Code', 'Annual_Premium', 'Policy_Sales_Channel','Vintage']\n",
        "\n",
        "# Transformations\n",
        "procs = [FillMissing, Categorify, Normalize]\n",
        "\n",
        "# Test Tabular List\n",
        "test_fastai = TabularList.from_df(test_fastai, cat_names=cat_names, cont_names=cont_names, procs=procs)\n",
        "\n",
        "# Train Data Bunch\n",
        "data = (TabularList.from_df(train_fastai, path='.', cat_names=cat_names, cont_names=cont_names, procs=procs)\n",
        "                        .split_by_idx(list(range(0,200)))\n",
        "                        .label_from_df(cols = dep_var)\n",
        "                        .add_test(test, label=0)\n",
        "                        .databunch())\n",
        "\n",
        "data.show_batch(rows=10)"
      ],
      "execution_count": null,
      "outputs": []
    },
    {
      "cell_type": "code",
      "metadata": {
        "colab": {
          "base_uri": "https://localhost:8080/"
        },
        "id": "ySaW0X05Ikxf",
        "outputId": "5c7433e4-65ec-4788-e724-f7e929941b71"
      },
      "source": [
        "# Create deep learning model\n",
        "learn = tabular_learner(data, layers=[20, 10, 5], metrics=accuracy, emb_drop=0.1, callback_fns=ShowGraph)\n",
        "\n",
        "# select the appropriate learning rate\n",
        "learn.lr_find()\n",
        "\n",
        "# we typically find the point where the slope is steepest\n",
        "learn.recorder.plot()\n",
        "\n",
        "# Fit the model based on selected learning rate\n",
        "learn.fit_one_cycle(1, max_lr=slice(1e-03))\n",
        "\n",
        "# Analyse our model\n",
        "learn.model\n",
        "learn.recorder.plot_losses()"
      ],
      "execution_count": null,
      "outputs": [
        {
          "output_type": "display_data",
          "data": {
            "text/html": [
              "\n",
              "    <div>\n",
              "        <style>\n",
              "            /* Turns off some styling */\n",
              "            progress {\n",
              "                /* gets rid of default border in Firefox and Opera. */\n",
              "                border: none;\n",
              "                /* Needs to be in here for Safari polyfill so background images work as expected. */\n",
              "                background-size: auto;\n",
              "            }\n",
              "            .progress-bar-interrupted, .progress-bar-interrupted::-webkit-progress-bar {\n",
              "                background: #F44336;\n",
              "            }\n",
              "        </style>\n",
              "      <progress value='0' class='' max='1' style='width:300px; height:20px; vertical-align: middle;'></progress>\n",
              "      0.00% [0/1 00:00<00:00]\n",
              "    </div>\n",
              "    \n",
              "<table border=\"1\" class=\"dataframe\">\n",
              "  <thead>\n",
              "    <tr style=\"text-align: left;\">\n",
              "      <th>epoch</th>\n",
              "      <th>train_loss</th>\n",
              "      <th>valid_loss</th>\n",
              "      <th>accuracy</th>\n",
              "      <th>time</th>\n",
              "    </tr>\n",
              "  </thead>\n",
              "  <tbody>\n",
              "  </tbody>\n",
              "</table><p>\n",
              "\n",
              "    <div>\n",
              "        <style>\n",
              "            /* Turns off some styling */\n",
              "            progress {\n",
              "                /* gets rid of default border in Firefox and Opera. */\n",
              "                border: none;\n",
              "                /* Needs to be in here for Safari polyfill so background images work as expected. */\n",
              "                background-size: auto;\n",
              "            }\n",
              "            .progress-bar-interrupted, .progress-bar-interrupted::-webkit-progress-bar {\n",
              "                background: #F44336;\n",
              "            }\n",
              "        </style>\n",
              "      <progress value='16' class='' max='4760' style='width:300px; height:20px; vertical-align: middle;'></progress>\n",
              "      0.34% [16/4760 00:42<3:31:27 0.8291]\n",
              "    </div>\n",
              "    "
            ],
            "text/plain": [
              "<IPython.core.display.HTML object>"
            ]
          },
          "metadata": {
            "tags": []
          }
        }
      ]
    },
    {
      "cell_type": "code",
      "metadata": {
        "id": "t3ay-ldmviCn"
      },
      "source": [
        ""
      ],
      "execution_count": null,
      "outputs": []
    }
  ]
}